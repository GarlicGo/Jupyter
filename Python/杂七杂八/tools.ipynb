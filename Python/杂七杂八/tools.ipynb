{
 "cells": [
  {
   "cell_type": "code",
   "execution_count": 3,
   "metadata": {},
   "outputs": [
    {
     "name": "stdout",
     "output_type": "stream",
     "text": [
      "YES\n"
     ]
    }
   ],
   "source": [
    "file_name = \"绝缘层污染 (1).tif\"\n",
    "if \"绝缘层污染\" in file_name:\n",
    "    print(\"YES\")"
   ]
  }
 ],
 "metadata": {
  "interpreter": {
   "hash": "5330bbab8596c24470c797794bd8b525582734b5cfb7b062209dd14c2a1406a4"
  },
  "kernelspec": {
   "display_name": "Python 3.9.7 ('base')",
   "language": "python",
   "name": "python3"
  },
  "language_info": {
   "codemirror_mode": {
    "name": "ipython",
    "version": 3
   },
   "file_extension": ".py",
   "mimetype": "text/x-python",
   "name": "python",
   "nbconvert_exporter": "python",
   "pygments_lexer": "ipython3",
   "version": "3.9.7"
  },
  "orig_nbformat": 4
 },
 "nbformat": 4,
 "nbformat_minor": 2
}

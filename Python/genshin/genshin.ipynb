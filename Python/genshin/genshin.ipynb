{
 "cells": [
  {
   "cell_type": "code",
   "execution_count": 2,
   "metadata": {},
   "outputs": [],
   "source": [
    "# 攻击乘区计算公式\n",
    "def getAttack(base, percent, fixed):\n",
    "  return base * percent + fixed;"
   ]
  },
  {
   "cell_type": "code",
   "execution_count": 2,
   "metadata": {},
   "outputs": [
    {
     "name": "stdout",
     "output_type": "stream",
     "text": [
      "攻击力: 2221.08\n",
      "最终伤害: 14314.438926629351\n"
     ]
    }
   ],
   "source": [
    "attack = getAttack(1016, (1 + 0.466 + 0.152 + 0.058 + 0.204), (311))\n",
    "print(\"攻击力:\", attack)\n",
    "lingHua1 = attack * 2.021 * (1 + 0.12 + 0.28 + 0.18 + 0.15 + 0.466) * (1 + 2.227) * 0.5 * (1 - 0.1);\n",
    "print(\"最终伤害:\", lingHua1)"
   ]
  },
  {
   "cell_type": "code",
   "execution_count": 5,
   "metadata": {},
   "outputs": [
    {
     "name": "stdout",
     "output_type": "stream",
     "text": [
      "行秋攻击力: 1595.5249999999999\n",
      "行秋每柄雨帘剑伤害: 2448.9054875543115\n",
      "行秋90满命攻击力: 1679.1599999999999\n",
      "90满名行秋每柄雨帘剑伤害: 3728.694152323979\n",
      "4绝缘-行秋每柄雨帘剑伤害: 4039.147011893489\n"
     ]
    }
   ],
   "source": [
    "# 行秋\n",
    "xq_now_attack = getAttack(633, (1 + 0.18 + 0.466 + 0.18 + 0.099), (311 + 35 + 31))\n",
    "print(\"行秋攻击力:\", xq_now_attack)\n",
    "xq_now_damage = xq_now_attack * 0.868 * (1 + 0.15 + 0.466 + 0.2) * (1 + 1.199) * 0.492 * (1 - 0.1);\n",
    "print(\"行秋每柄雨帘剑伤害:\", xq_now_damage)\n",
    "\n",
    "xq_90_attack = getAttack((202+454), (1 + 0.24 + 0.466 + 0.18 + 0.099), (311 + 35 + 31))\n",
    "print(\"行秋90满命攻击力:\", xq_90_attack)\n",
    "xq_90_damage = xq_90_attack * 1.085 * (1 + 0.15 + 0.466 + 0.2) * (1 + 1.199 ) * 0.5 * (1 + 0.025);\n",
    "print(\"90满名行秋每柄雨帘剑伤害:\", xq_90_damage)\n",
    "\n",
    "xq_90jy_attack = getAttack((202+454), (1 + 0.24 + 0.466 + 0.099), (311 + 35 + 31))\n",
    "xq_90jy_damage = xq_90jy_attack * 1.085 * (1 + 0.45 + 0.466 + 0.2) * (1 + 1.199 ) * 0.5 * (1 + 0.025);\n",
    "print(\"4绝缘-行秋每柄雨帘剑伤害:\", xq_90jy_damage)"
   ]
  },
  {
   "cell_type": "code",
   "execution_count": null,
   "metadata": {},
   "outputs": [],
   "source": []
  }
 ],
 "metadata": {
  "interpreter": {
   "hash": "5330bbab8596c24470c797794bd8b525582734b5cfb7b062209dd14c2a1406a4"
  },
  "kernelspec": {
   "display_name": "Python 3.9.7 ('base')",
   "language": "python",
   "name": "python3"
  },
  "language_info": {
   "codemirror_mode": {
    "name": "ipython",
    "version": 3
   },
   "file_extension": ".py",
   "mimetype": "text/x-python",
   "name": "python",
   "nbconvert_exporter": "python",
   "pygments_lexer": "ipython3",
   "version": "3.9.7"
  },
  "orig_nbformat": 4
 },
 "nbformat": 4,
 "nbformat_minor": 2
}

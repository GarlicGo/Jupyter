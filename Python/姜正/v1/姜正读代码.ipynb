{
 "cells": [
  {
   "cell_type": "code",
   "execution_count": 1,
   "id": "b089f1de",
   "metadata": {},
   "outputs": [],
   "source": [
    "import numpy as np\n",
    "import xlrd"
   ]
  },
  {
   "cell_type": "code",
   "execution_count": 2,
   "id": "011043ef",
   "metadata": {},
   "outputs": [],
   "source": [
    "arr = np.array([\n",
    "        [\n",
    "            [1, 2, 3],\n",
    "            [2, 4, 4]\n",
    "    ]\n",
    "])"
   ]
  },
  {
   "cell_type": "code",
   "execution_count": 3,
   "id": "a58484db",
   "metadata": {},
   "outputs": [
    {
     "data": {
      "text/plain": [
       "(1, 2, 3)"
      ]
     },
     "execution_count": 3,
     "metadata": {},
     "output_type": "execute_result"
    }
   ],
   "source": [
    "arr.shape"
   ]
  },
  {
   "cell_type": "code",
   "execution_count": null,
   "id": "b56481f5",
   "metadata": {},
   "outputs": [],
   "source": []
  },
  {
   "cell_type": "code",
   "execution_count": 1,
   "id": "bcdceb7b",
   "metadata": {},
   "outputs": [],
   "source": [
    "import xlrd\n",
    "from numpy import random, dot, exp, array\n",
    "import numpy as np\n",
    "import pandas as pd"
   ]
  },
  {
   "attachments": {},
   "cell_type": "markdown",
   "id": "a7d67ad0",
   "metadata": {},
   "source": []
  },
  {
   "cell_type": "code",
   "execution_count": 21,
   "id": "31e4fabb",
   "metadata": {},
   "outputs": [],
   "source": [
    "# Min-Max标准化\n",
    "# 参考链接：https://www.icode9.com/content-4-613783.html\n",
    "def maxminnorm(array):\n",
    "    global maxcols, mincols\n",
    "    data_shape = array.shape\n",
    "    data_rows = data_shape[0] # 行数\n",
    "    data_cols = data_shape[1] # 列数\n",
    "    maxcols = array.max(axis=1).reshape(data_rows, 1) # 每一行的最大值\n",
    "    mincols = array.min(axis=1).reshape(data_rows, 1) # 每一行的最小值\n",
    "    t = np.empty((data_rows, data_cols)) # 和原矩阵行列数相同的空矩阵\n",
    "    for i in range(data_rows):\n",
    "        t[i, :] = (array[i, :]-mincols[i])/(maxcols[i]-mincols[i])\n",
    "    return t"
   ]
  },
  {
   "cell_type": "code",
   "execution_count": null,
   "id": "c479f27f",
   "metadata": {},
   "outputs": [],
   "source": [
    "# 没看明白和maxminnorm除了变量名还有什么区别\n",
    "def maxminnorm2(array):\n",
    "    global maxcols2, mincols2\n",
    "    data_shape = array.shape\n",
    "    data_rows = data_shape[0]\n",
    "    data_cols = data_shape[1]\n",
    "    maxcols2 = array.max(axis=1).reshape(data_rows, 1)\n",
    "    mincols2 = array.min(axis=1).reshape(data_rows, 1)\n",
    "    t = np.empty((data_rows, data_cols))\n",
    "    for i in range(data_rows):\n",
    "        t[i, :] = (array[i, :]-mincols2[i])/(maxcols2[i]-mincols2[i])\n",
    "    return t"
   ]
  },
  {
   "cell_type": "code",
   "execution_count": 30,
   "id": "2d34956f",
   "metadata": {},
   "outputs": [
    {
     "data": {
      "text/plain": [
       "array([[ 1],\n",
       "       [11],\n",
       "       [11]])"
      ]
     },
     "execution_count": 30,
     "metadata": {},
     "output_type": "execute_result"
    }
   ],
   "source": [
    "\n",
    "testArr.min(axis=1).reshape(3, 1)"
   ]
  },
  {
   "cell_type": "code",
   "execution_count": 38,
   "id": "5bf40247",
   "metadata": {},
   "outputs": [
    {
     "name": "stdout",
     "output_type": "stream",
     "text": [
      "[2 4 6]\n"
     ]
    }
   ],
   "source": [
    "testArrTest = np.array([1, 2, 3])\n",
    "print(testArrTest + testArrTest)"
   ]
  },
  {
   "cell_type": "code",
   "execution_count": 7,
   "id": "077ecb1f",
   "metadata": {},
   "outputs": [],
   "source": [
    "def remaxminnorm(array):\n",
    "    data_shape = array.shape\n",
    "    data_rows = data_shape[0] # 行数\n",
    "    data_cols = data_shape[1] # 列数\n",
    "    t = np.empty((data_rows, data_cols)) # 和原矩阵行列数相同的空矩阵\n",
    "    for i in range(data_rows):\n",
    "        # 新矩阵的第i行 = 原矩阵的第i行 * (原矩阵第i行最大值 - 原矩阵第i行最小值) + 原矩阵的第i行【这里的相加是对应位置相加】\n",
    "        t[i, :] = ((array[i, :])*(maxcols2[i]-mincols2[i])+mincols2[i])\n",
    "    return t"
   ]
  },
  {
   "cell_type": "code",
   "execution_count": 8,
   "id": "fe91582b",
   "metadata": {},
   "outputs": [],
   "source": [
    "# 好像和maxminnorm一样\n",
    "def usemaxminnorm(array):\n",
    "    data_shape = array.shape\n",
    "    data_rows = data_shape[0]\n",
    "    data_cols = data_shape[1]\n",
    "    t = np.empty((data_rows, data_cols))\n",
    "    for i in range(data_rows):\n",
    "        t[i, :] = ((array[i, :]-mincols[i])/(maxcols[i]-mincols[i]))\n",
    "    return t"
   ]
  },
  {
   "cell_type": "code",
   "execution_count": null,
   "id": "a444c40b",
   "metadata": {},
   "outputs": [],
   "source": []
  },
  {
   "cell_type": "code",
   "execution_count": 5,
   "id": "e16a3653",
   "metadata": {},
   "outputs": [
    {
     "data": {
      "text/plain": [
       "<xlrd.book.Book at 0x7f97e007bbe0>"
      ]
     },
     "execution_count": 5,
     "metadata": {},
     "output_type": "execute_result"
    }
   ],
   "source": [
    "# 数据处理\n",
    "table = xlrd.open_workbook(r\"/Users/zhouxinyu/Code/jz/data.xls\", 'rb')"
   ]
  },
  {
   "cell_type": "code",
   "execution_count": 12,
   "id": "8e9e9b86",
   "metadata": {},
   "outputs": [
    {
     "name": "stdout",
     "output_type": "stream",
     "text": [
      "sheet1 ->  Sheet1\n",
      "sheet1 2 ->  Sheet  0:<Sheet1>\n",
      "rowNum ->  11\n",
      "colNum ->  23\n",
      "rowi[2:] -->  ['', 2021.0, '', '', 2020.0, '', '', '', 2019.0, '', '', '', 2018.0, '', '', '', 2017.0, '', '', '', 2016.0]\n",
      "rowi[2:] -->  [0.0, 17.57, 17.66, 26.56, 28.5, 27.87, 28.27, 19.24, 17.39, 16.64, 17.74, 19.01, 20.88, 18.16, 19.45, 32.2, 30.89, 35.21, 35.66, 34.0, 31.11]\n",
      "rowi[2:] -->  [72.44, 72.44, 43.0, 17.6, 83.53, 50.94, 25.55, 7.63, 76.86, 53.12, 31.42, 11.85, 73.11, 51.06, 29.88, 12.43, 61.61, 42.51, 24.87, 9.54, 45.3]\n",
      "rowi[2:] -->  [8.77, 8.77, 4.55, 1.15, 12.24, 7.15, 3.47, -0.27, 10.95, 7.29, 3.89, 0.96, 9.64, 6.87, 3.59, 0.86, 9.05, 5.71, 2.87, 0.66, 6.37]\n",
      "rowi[2:] -->  [6.96, 6.96, 6.62, 6.86, 6.71, 6.14, 5.78, 5.95, 5.97, 5.57, 5.14, 4.85, 5.23, 5.13, 4.79, 4.95, 4.84, 4.48, 4.18, 8.59, 8.42]\n",
      "rowi[2:] -->  [8.91, 8.91, 8.75, 8.23, 8.4, 4.66, 5.17, 5.84, 6.94, 5.48, 5.23, 4.62, 4.07, 4.29, 4.06, 2.9, 2.24, 1.8, 1.35, 1.18, 1.2]\n",
      "rowi[2:] -->  [7.23, 7.23, 6.61, 5.48, 4.93, 6.09, 5.27, 3.99, 3.39, 3.46, 3.13, 3.11, 3.03, 3.49, 3.23, 2.94, 2.87, 2.9, 2.88, 2.56, 2.69]\n",
      "rowi[2:] -->  [6.58, 6.58, 11.03, 10.0, 9.44, 6.01, 5.53, 4.13, 3.47, 3.31, 2.99, 2.06, 1.9, 1.26, 0.11, 0.0, 0.0, 0.0, 0.007, 0.001, 0.055]\n",
      "rowi[2:] -->  ['', '', '', '', '', '', '', '', '', '', '', '', '', '', '', '', '', '', '', '', '']\n",
      "rowi[2:] -->  ['', '', '', '', '', '', '', '', '', '', '', '', '', '', '', '', '', '', '', '', '']\n",
      "rowi[2:] -->  [7, '', '', '', '', '', '', '', '', '', '', '', '', '', '', '', '', '', '', '', '']\n"
     ]
    }
   ],
   "source": [
    "sheet1 = table.sheet_names()[0]\n",
    "print(\"sheet1 -> \", sheet1)\n",
    "sheet1 = table.sheet_by_index(0)\n",
    "print(\"sheet1 2 -> \", sheet1)\n",
    "\n",
    "rowNum = sheet1.nrows\n",
    "colNum = sheet1.ncols\n",
    "\n",
    "print(\"rowNum -> \", rowNum)\n",
    "print(\"colNum -> \", colNum)\n",
    "\n",
    "newlist = []\n",
    "\n",
    "for i in range(rowNum):\n",
    "    rowi = sheet1.row_values(i)\n",
    "    print(\"rowi[2:] --> \", rowi[2:])\n",
    "    newlist.append(rowi[2:])"
   ]
  },
  {
   "cell_type": "code",
   "execution_count": 17,
   "id": "c73a2e6f",
   "metadata": {},
   "outputs": [],
   "source": [
    "# 引入数据\n",
    "# 定义一个数组，数组的第一个元素是newlist[2][3:]，第二个元素是newlist[2][3:]，第三个元素是newlist[4][3:]，以此类推\n",
    "# newlist[2][3:]代表，newlist[2][3]-newlist[2][max]的全部元素，是一个一位数组\n",
    "gjys = array([newlist[2][3:],newlist[2][3:],newlist[4][3:],newlist[5][3:],newlist[6][3:],newlist[7][3:]])\n",
    "# T转置：表示整个顺序颠倒\n",
    "gjys = maxminnorm(gjys).T"
   ]
  },
  {
   "cell_type": "code",
   "execution_count": 46,
   "id": "8400693c",
   "metadata": {},
   "outputs": [
    {
     "data": {
      "text/plain": [
       "array([12, 13])"
      ]
     },
     "execution_count": 46,
     "metadata": {},
     "output_type": "execute_result"
    }
   ],
   "source": [
    "testArr = np.array(\n",
    "    [\n",
    "        [1, 2, 3],\n",
    "        [11, 12, 13],\n",
    "        [11, 21, 31],\n",
    "    ]\n",
    ")\n",
    "testArr[1][1:]"
   ]
  },
  {
   "cell_type": "code",
   "execution_count": 40,
   "id": "3421ff58",
   "metadata": {},
   "outputs": [
    {
     "name": "stdout",
     "output_type": "stream",
     "text": [
      "gjys ->  [[2.01331542e-02 1.00000000e+00 2.27114625e-01 0.00000000e+00\n",
      "  0.00000000e+00 1.00000000e+00 9.85758753e-01 3.80419372e-01\n",
      "  0.00000000e+00 1.00000000e+00 1.00000000e+00 7.27390367e-01\n",
      "  2.65465576e-01 9.54624336e-01 9.61370576e-01 9.04947005e-01\n",
      "  2.51646904e-02 5.14812297e-01]\n",
      " [0.00000000e+00 1.00000000e+00 2.67625899e-01 1.18246950e-01\n",
      "  0.00000000e+00 9.77490607e-01 1.00000000e+00 4.28220954e-01\n",
      "  1.01512132e-01 9.03302127e-01 9.96734968e-01 7.67103170e-01\n",
      "  3.79166434e-01 1.00000000e+00 1.00000000e+00 1.00000000e+00\n",
      "  7.43405276e-02 5.50762147e-01]\n",
      " [5.57479619e-01 0.00000000e+00 0.00000000e+00 2.38356674e-01\n",
      "  6.21850457e-01 2.52244895e-01 1.72416425e-01 1.40721867e-01\n",
      "  2.28886447e-01 1.43852977e-01 2.00402170e-01 3.28240867e-01\n",
      "  7.32927279e-01 2.00884646e-01 1.42311105e-01 0.00000000e+00\n",
      "  1.00000000e+00 1.00000000e+00]\n",
      " [9.73439424e-01 1.00000000e+00 6.75900277e-02 5.95425735e-01\n",
      "  1.00000000e+00 8.31110285e-01 9.74957912e-01 1.00000000e+00\n",
      "  1.00000000e+00 3.66150844e-01 6.82984631e-01 1.00000000e+00\n",
      "  1.00000000e+00 1.97065257e-01 1.79643132e-01 9.38078939e-02\n",
      "  0.00000000e+00 0.00000000e+00]\n",
      " [8.05069008e-01 2.29160388e-01 1.00000000e+00 1.00000000e+00\n",
      "  6.27642889e-01 0.00000000e+00 0.00000000e+00 0.00000000e+00\n",
      "  2.38105607e-01 0.00000000e+00 3.08059188e-01 4.60957470e-01\n",
      "  4.51874300e-01 1.17876813e-01 2.01493174e-01 3.61162736e-01\n",
      "  0.00000000e+00 3.55249625e-02]\n",
      " [1.00000000e+00 8.68638298e-01 2.81800000e-01 5.96118770e-01\n",
      "  6.39884120e-01 1.65248976e-01 2.17662875e-01 3.44274528e-01\n",
      "  3.57369144e-01 7.79302241e-02 0.00000000e+00 0.00000000e+00\n",
      "  0.00000000e+00 0.00000000e+00 0.00000000e+00 2.78885350e-03\n",
      "  1.00000000e-04 2.84757540e-03]]\n",
      "maxminnorm(gjys) ->  [[2.01331542e-02 1.00000000e+00 2.27114625e-01 0.00000000e+00\n",
      "  0.00000000e+00 1.00000000e+00 9.85758753e-01 3.80419372e-01\n",
      "  0.00000000e+00 1.00000000e+00 1.00000000e+00 7.27390367e-01\n",
      "  2.65465576e-01 9.54624336e-01 9.61370576e-01 9.04947005e-01\n",
      "  2.51646904e-02 5.14812297e-01]\n",
      " [0.00000000e+00 1.00000000e+00 2.67625899e-01 1.18246950e-01\n",
      "  0.00000000e+00 9.77490607e-01 1.00000000e+00 4.28220954e-01\n",
      "  1.01512132e-01 9.03302127e-01 9.96734968e-01 7.67103170e-01\n",
      "  3.79166434e-01 1.00000000e+00 1.00000000e+00 1.00000000e+00\n",
      "  7.43405276e-02 5.50762147e-01]\n",
      " [5.57479619e-01 0.00000000e+00 0.00000000e+00 2.38356674e-01\n",
      "  6.21850457e-01 2.52244895e-01 1.72416425e-01 1.40721867e-01\n",
      "  2.28886447e-01 1.43852977e-01 2.00402170e-01 3.28240867e-01\n",
      "  7.32927279e-01 2.00884646e-01 1.42311105e-01 0.00000000e+00\n",
      "  1.00000000e+00 1.00000000e+00]\n",
      " [9.73439424e-01 1.00000000e+00 6.75900277e-02 5.95425735e-01\n",
      "  1.00000000e+00 8.31110285e-01 9.74957912e-01 1.00000000e+00\n",
      "  1.00000000e+00 3.66150844e-01 6.82984631e-01 1.00000000e+00\n",
      "  1.00000000e+00 1.97065257e-01 1.79643132e-01 9.38078939e-02\n",
      "  0.00000000e+00 0.00000000e+00]\n",
      " [8.05069008e-01 2.29160388e-01 1.00000000e+00 1.00000000e+00\n",
      "  6.27642889e-01 0.00000000e+00 0.00000000e+00 0.00000000e+00\n",
      "  2.38105607e-01 0.00000000e+00 3.08059188e-01 4.60957470e-01\n",
      "  4.51874300e-01 1.17876813e-01 2.01493174e-01 3.61162736e-01\n",
      "  0.00000000e+00 3.55249625e-02]\n",
      " [1.00000000e+00 8.68638298e-01 2.81800000e-01 5.96118770e-01\n",
      "  6.39884120e-01 1.65248976e-01 2.17662875e-01 3.44274528e-01\n",
      "  3.57369144e-01 7.79302241e-02 0.00000000e+00 0.00000000e+00\n",
      "  0.00000000e+00 0.00000000e+00 0.00000000e+00 2.78885350e-03\n",
      "  1.00000000e-04 2.84757540e-03]]\n",
      "maxminnorm(gjys).T ->  [[2.01331542e-02 0.00000000e+00 5.57479619e-01 9.73439424e-01\n",
      "  8.05069008e-01 1.00000000e+00]\n",
      " [1.00000000e+00 1.00000000e+00 0.00000000e+00 1.00000000e+00\n",
      "  2.29160388e-01 8.68638298e-01]\n",
      " [2.27114625e-01 2.67625899e-01 0.00000000e+00 6.75900277e-02\n",
      "  1.00000000e+00 2.81800000e-01]\n",
      " [0.00000000e+00 1.18246950e-01 2.38356674e-01 5.95425735e-01\n",
      "  1.00000000e+00 5.96118770e-01]\n",
      " [0.00000000e+00 0.00000000e+00 6.21850457e-01 1.00000000e+00\n",
      "  6.27642889e-01 6.39884120e-01]\n",
      " [1.00000000e+00 9.77490607e-01 2.52244895e-01 8.31110285e-01\n",
      "  0.00000000e+00 1.65248976e-01]\n",
      " [9.85758753e-01 1.00000000e+00 1.72416425e-01 9.74957912e-01\n",
      "  0.00000000e+00 2.17662875e-01]\n",
      " [3.80419372e-01 4.28220954e-01 1.40721867e-01 1.00000000e+00\n",
      "  0.00000000e+00 3.44274528e-01]\n",
      " [0.00000000e+00 1.01512132e-01 2.28886447e-01 1.00000000e+00\n",
      "  2.38105607e-01 3.57369144e-01]\n",
      " [1.00000000e+00 9.03302127e-01 1.43852977e-01 3.66150844e-01\n",
      "  0.00000000e+00 7.79302241e-02]\n",
      " [1.00000000e+00 9.96734968e-01 2.00402170e-01 6.82984631e-01\n",
      "  3.08059188e-01 0.00000000e+00]\n",
      " [7.27390367e-01 7.67103170e-01 3.28240867e-01 1.00000000e+00\n",
      "  4.60957470e-01 0.00000000e+00]\n",
      " [2.65465576e-01 3.79166434e-01 7.32927279e-01 1.00000000e+00\n",
      "  4.51874300e-01 0.00000000e+00]\n",
      " [9.54624336e-01 1.00000000e+00 2.00884646e-01 1.97065257e-01\n",
      "  1.17876813e-01 0.00000000e+00]\n",
      " [9.61370576e-01 1.00000000e+00 1.42311105e-01 1.79643132e-01\n",
      "  2.01493174e-01 0.00000000e+00]\n",
      " [9.04947005e-01 1.00000000e+00 0.00000000e+00 9.38078939e-02\n",
      "  3.61162736e-01 2.78885350e-03]\n",
      " [2.51646904e-02 7.43405276e-02 1.00000000e+00 0.00000000e+00\n",
      "  0.00000000e+00 1.00000000e-04]\n",
      " [5.14812297e-01 5.50762147e-01 1.00000000e+00 0.00000000e+00\n",
      "  3.55249625e-02 2.84757540e-03]]\n"
     ]
    }
   ],
   "source": [
    "\n",
    "print(\"gjys -> \", gjys)\n",
    "print(\"maxminnorm(gjys) -> \", maxminnorm(gjys))\n",
    "print(\"maxminnorm(gjys).T -> \", maxminnorm(gjys).T)\n",
    "# gj = array(newlist[1][3:]).reshape(1,18)"
   ]
  }
 ],
 "metadata": {
  "kernelspec": {
   "display_name": "Python 3 (ipykernel)",
   "language": "python",
   "name": "python3"
  },
  "language_info": {
   "codemirror_mode": {
    "name": "ipython",
    "version": 3
   },
   "file_extension": ".py",
   "mimetype": "text/x-python",
   "name": "python",
   "nbconvert_exporter": "python",
   "pygments_lexer": "ipython3",
   "version": "3.9.7"
  }
 },
 "nbformat": 4,
 "nbformat_minor": 5
}

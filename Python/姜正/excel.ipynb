{
 "cells": [
  {
   "cell_type": "code",
   "execution_count": 45,
   "metadata": {},
   "outputs": [
    {
     "name": "stdout",
     "output_type": "stream",
     "text": [
      "[2.0210401e+07 2.0211231e+07 3.3100000e+02 3.2800000e+00 3.2500000e+00\n",
      " 3.5940000e+02 5.5260000e+01 1.5309000e+02 2.3941000e+02 2.3941000e+02\n",
      " 9.8000000e-01 4.1500000e+00 3.8000000e-01 7.4200000e-02 3.7900000e-02\n",
      " 1.0080000e-01 3.8290000e-01 6.1710000e-01 1.0080000e-01 2.7430000e-01\n",
      " 2.3080000e-01 3.9400000e-02 4.1600000e-02 3.9300000e-02 3.6380000e-01\n",
      " 1.6400000e+00 6.6000000e-03 1.8100000e+00 3.8350000e-01 6.1650000e-01\n",
      " 6.4100000e-01 3.5900000e-01 1.5200000e-02]\n",
      "[20210401. 20220401. 20210401. 20200401. 20200401. 20200401. 20200401.\n",
      " 20190401. 20190401. 20190401. 20190401. 20180401. 20180401. 20180401.\n",
      " 20180401.]\n"
     ]
    }
   ],
   "source": [
    "import pandas as pd\n",
    "import numpy as np\n",
    "\n",
    "def readExcel(path):\n",
    "    xlsx = pd.ExcelFile(path, engine='openpyxl')\n",
    "    sheet1 = pd.read_excel(xlsx, 'Sheet1')\n",
    "    headerList = list(sheet1)\n",
    "    data = []\n",
    "    for header in headerList:\n",
    "        data.append(list(sheet1.get(header)))\n",
    "    data = np.array(data[1:])\n",
    "    return data, data.transpose()\n",
    "\n",
    "data1, data2 =  readExcel(r'new.xlsx')\n",
    "print(data1[0])\n",
    "print(data2[0])"
   ]
  },
  {
   "cell_type": "code",
   "execution_count": 43,
   "metadata": {},
   "outputs": [
    {
     "name": "stdout",
     "output_type": "stream",
     "text": [
      "rowNum ->  8\n",
      "colNum ->  23\n",
      "newlist ->  ['', 2021.0, '', '', 2020.0, '', '', '', 2019.0, '', '', '', 2018.0, '', '', '', 2017.0, '', '', '', 2016.0]\n"
     ]
    }
   ],
   "source": [
    "import xlrd\n",
    "import pandas as pd\n",
    "\n",
    "table = xlrd.open_workbook(r\"./data.xls\", 'rb')\n",
    "sheet1 = table.sheet_names()[0]\n",
    "sheet1 = table.sheet_by_index(0)\n",
    "\n",
    "rowNum = sheet1.nrows\n",
    "colNum = sheet1.ncols\n",
    "newlist = []\n",
    "for i in range(rowNum):\n",
    "    rowi = sheet1.row_values(i)\n",
    "    newlist.append(rowi[2:])\n",
    "\n",
    "print(\"rowNum -> \", rowNum)\n",
    "print(\"colNum -> \", colNum)\n",
    "print(\"newlist -> \", newlist[0])"
   ]
  }
 ],
 "metadata": {
  "interpreter": {
   "hash": "5330bbab8596c24470c797794bd8b525582734b5cfb7b062209dd14c2a1406a4"
  },
  "kernelspec": {
   "display_name": "Python 3.9.7 ('base')",
   "language": "python",
   "name": "python3"
  },
  "language_info": {
   "codemirror_mode": {
    "name": "ipython",
    "version": 3
   },
   "file_extension": ".py",
   "mimetype": "text/x-python",
   "name": "python",
   "nbconvert_exporter": "python",
   "pygments_lexer": "ipython3",
   "version": "3.9.7"
  },
  "orig_nbformat": 4
 },
 "nbformat": 4,
 "nbformat_minor": 2
}

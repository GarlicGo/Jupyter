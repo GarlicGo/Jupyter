{
 "cells": [
  {
   "cell_type": "markdown",
   "id": "008ae3f7",
   "metadata": {},
   "source": [
    "# Python基础"
   ]
  },
  {
   "cell_type": "markdown",
   "id": "107c039e",
   "metadata": {},
   "source": [
    "Python的语法比较简单，采用缩进方式，写出来的代码就像下面的样子："
   ]
  },
  {
   "cell_type": "code",
   "execution_count": 5,
   "id": "158e100d",
   "metadata": {},
   "outputs": [
    {
     "name": "stdout",
     "output_type": "stream",
     "text": [
      "100\n"
     ]
    }
   ],
   "source": [
    "# print absolute value of an integer:\n",
    "a = 100\n",
    "if a >= 0:\n",
    "    print(a)\n",
    "else:\n",
    "    print(-a)"
   ]
  },
  {
   "cell_type": "code",
   "execution_count": null,
   "id": "eeae169f",
   "metadata": {},
   "outputs": [],
   "source": []
  },
  {
   "cell_type": "markdown",
   "id": "eb068bcc",
   "metadata": {},
   "source": [
    "# 数据类型和变量"
   ]
  },
  {
   "cell_type": "code",
   "execution_count": null,
   "id": "e362a7ab",
   "metadata": {},
   "outputs": [],
   "source": []
  }
 ],
 "metadata": {
  "kernelspec": {
   "display_name": "Python 3 (ipykernel)",
   "language": "python",
   "name": "python3"
  },
  "language_info": {
   "codemirror_mode": {
    "name": "ipython",
    "version": 3
   },
   "file_extension": ".py",
   "mimetype": "text/x-python",
   "name": "python",
   "nbconvert_exporter": "python",
   "pygments_lexer": "ipython3",
   "version": "3.9.7"
  }
 },
 "nbformat": 4,
 "nbformat_minor": 5
}

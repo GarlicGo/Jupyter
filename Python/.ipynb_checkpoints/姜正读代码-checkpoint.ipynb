{
 "cells": [
  {
   "cell_type": "code",
   "execution_count": 1,
   "id": "b089f1de",
   "metadata": {},
   "outputs": [],
   "source": [
    "import numpy as np\n",
    "import xlrd"
   ]
  },
  {
   "cell_type": "code",
   "execution_count": 2,
   "id": "011043ef",
   "metadata": {},
   "outputs": [],
   "source": [
    "arr = np.array([\n",
    "        [\n",
    "            [1, 2, 3],\n",
    "            [2, 4, 4]\n",
    "    ]\n",
    "])"
   ]
  },
  {
   "cell_type": "code",
   "execution_count": 3,
   "id": "a58484db",
   "metadata": {},
   "outputs": [
    {
     "data": {
      "text/plain": [
       "(1, 2, 3)"
      ]
     },
     "execution_count": 3,
     "metadata": {},
     "output_type": "execute_result"
    }
   ],
   "source": [
    "arr.shape"
   ]
  },
  {
   "cell_type": "code",
   "execution_count": null,
   "id": "b56481f5",
   "metadata": {},
   "outputs": [],
   "source": []
  },
  {
   "cell_type": "code",
   "execution_count": 1,
   "id": "bcdceb7b",
   "metadata": {},
   "outputs": [],
   "source": [
    "import xlrd\n",
    "from numpy import random, dot, exp, array\n",
    "import numpy as np\n",
    "import pandas as pd"
   ]
  },
  {
   "cell_type": "code",
   "execution_count": 5,
   "id": "31e4fabb",
   "metadata": {},
   "outputs": [],
   "source": [
    "def maxminnorm(array):\n",
    "    global maxcols, mincols\n",
    "    data_shape = array.shape\n",
    "    data_rows = data_shape[0]\n",
    "    data_cols = data_shape[1]\n",
    "    maxcols = array.max(axis=1).reshape(data_rows, 1)\n",
    "    mincols = array.min(axis=1).reshape(data_rows, 1)\n",
    "    t = np.empty((data_rows, data_cols))\n",
    "    for i in range(data_rows):\n",
    "        t[i, :] = (array[i, :]-mincols[i])/(maxcols[i]-mincols[i])\n",
    "    return t"
   ]
  },
  {
   "cell_type": "code",
   "execution_count": null,
   "id": "1b8d828b",
   "metadata": {},
   "outputs": [],
   "source": []
  },
  {
   "cell_type": "code",
   "execution_count": null,
   "id": "017a24d9",
   "metadata": {},
   "outputs": [],
   "source": []
  },
  {
   "cell_type": "code",
   "execution_count": 6,
   "id": "b61b9412",
   "metadata": {},
   "outputs": [],
   "source": [
    "def maxminnorm2(array):\n",
    "    global maxcols2, mincols2\n",
    "    data_shape = array.shape\n",
    "    data_rows = data_shape[0]\n",
    "    data_cols = data_shape[1]\n",
    "    maxcols2 = array.max(axis=1).reshape(data_rows, 1)\n",
    "    mincols2 = array.min(axis=1).reshape(data_rows, 1)\n",
    "    t = np.empty((data_rows, data_cols))\n",
    "    for i in range(data_rows):\n",
    "        t[i, :] = (array[i, :]-mincols2[i])/(maxcols2[i]-mincols2[i])\n",
    "    return t"
   ]
  },
  {
   "cell_type": "code",
   "execution_count": 7,
   "id": "077ecb1f",
   "metadata": {},
   "outputs": [],
   "source": [
    "def remaxminnorm(array):\n",
    "    data_shape = array.shape\n",
    "    data_rows = data_shape[0]\n",
    "    data_cols = data_shape[1]\n",
    "    t = np.empty((data_rows, data_cols))\n",
    "    for i in range(data_rows):\n",
    "        t[i, :] = ((array[i, :])*(maxcols2[i]-mincols2[i])+mincols2[i])\n",
    "    return t"
   ]
  },
  {
   "cell_type": "code",
   "execution_count": 8,
   "id": "fe91582b",
   "metadata": {},
   "outputs": [],
   "source": [
    "def usemaxminnorm(array):\n",
    "    data_shape = array.shape\n",
    "    data_rows = data_shape[0]\n",
    "    data_cols = data_shape[1]\n",
    "    t = np.empty((data_rows, data_cols))\n",
    "    for i in range(data_rows):\n",
    "        t[i, :] = ((array[i, :]-mincols[i])/(maxcols[i]-mincols[i]))\n",
    "    return t"
   ]
  },
  {
   "cell_type": "code",
   "execution_count": null,
   "id": "a444c40b",
   "metadata": {},
   "outputs": [],
   "source": []
  },
  {
   "cell_type": "code",
   "execution_count": 5,
   "id": "e16a3653",
   "metadata": {},
   "outputs": [
    {
     "data": {
      "text/plain": [
       "<xlrd.book.Book at 0x7f97e007bbe0>"
      ]
     },
     "execution_count": 5,
     "metadata": {},
     "output_type": "execute_result"
    }
   ],
   "source": [
    "# 数据处理\n",
    "table = xlrd.open_workbook(r\"/Users/zhouxinyu/Code/jz/data.xls\", 'rb')\n"
   ]
  },
  {
   "cell_type": "code",
   "execution_count": 4,
   "id": "8e9e9b86",
   "metadata": {},
   "outputs": [],
   "source": [
    "sheet1 = table.sheet_names()[0]\n",
    "sheet1 = table.sheet_by_index(0)\n",
    "rowNum = sheet1.nrows\n",
    "colNum = sheet1.ncols\n",
    "newlist = []\n",
    "for i in range(rowNum):\n",
    "    rowi = sheet1.row_values(i)\n",
    "    newlist.append(rowi[2:])"
   ]
  }
 ],
 "metadata": {
  "kernelspec": {
   "display_name": "Python 3 (ipykernel)",
   "language": "python",
   "name": "python3"
  },
  "language_info": {
   "codemirror_mode": {
    "name": "ipython",
    "version": 3
   },
   "file_extension": ".py",
   "mimetype": "text/x-python",
   "name": "python",
   "nbconvert_exporter": "python",
   "pygments_lexer": "ipython3",
   "version": "3.9.7"
  }
 },
 "nbformat": 4,
 "nbformat_minor": 5
}

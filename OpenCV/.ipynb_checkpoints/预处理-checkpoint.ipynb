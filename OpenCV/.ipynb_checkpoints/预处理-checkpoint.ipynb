{
 "cells": [
  {
   "cell_type": "markdown",
   "id": "c9bef9f0",
   "metadata": {},
   "source": [
    "# 二值化"
   ]
  },
  {
   "cell_type": "code",
   "execution_count": 2,
   "id": "83baec91",
   "metadata": {},
   "outputs": [],
   "source": [
    "import numpy as np\n",
    "import cv2\n",
    "import matplotlib.pyplot as plt"
   ]
  },
  {
   "cell_type": "code",
   "execution_count": 3,
   "id": "a4f600e6",
   "metadata": {},
   "outputs": [],
   "source": [
    "def cv_show(img):\n",
    "    cv2.imshow('cv_show', img)\n",
    "    cv2.waitKey(0)  # 等待时间，毫秒级，0标示按任意键终止\n",
    "    cv2.destroyAllWindows()\n",
    "    cv2.waitKey(1)  # 解决mac中窗口不关闭的问题\n",
    "    \n",
    "def showImages(images, titles = [''], size = [1, 1], BGR = False):\n",
    "    for i in range(len(images)):\n",
    "        plt.subplot(size[0], size[1], i + 1)\n",
    "        showImage = images[i]\n",
    "        if (BGR):\n",
    "            b,g,r = cv2.split(images[i])\n",
    "            showImage = cv2.merge([r,g,b])\n",
    "        plt.imshow(showImage ,'gray')\n",
    "        plt.title(titles[i])\n",
    "        plt.xticks([]), plt.yticks([])\n",
    "# np.hstack((img1, img2))"
   ]
  },
  {
   "cell_type": "code",
   "execution_count": 10,
   "id": "4296150c",
   "metadata": {},
   "outputs": [],
   "source": [
    "# 色彩空间转换：⬇️\n",
    "# https://blog.csdn.net/keith_bb/article/details/53470170?spm=1001.2101.3001.6650.1&utm_medium=distribute.pc_relevant.none-task-blog-2%7Edefault%7ECTRLIST%7Edefault-1.pc_relevant_default&depth_1-utm_source=distribute.pc_relevant.none-task-blog-2%7Edefault%7ECTRLIST%7Edefault-1.pc_relevant_default&utm_relevant_index=2\n",
    "\n",
    "img = cv2.imread(\n",
    "    '/Users/zhouxinyu/Code/Data/ZF-Vision/wuran.png', cv2.IMREAD_COLOR)\n",
    "hsv = cv2.cvtColor(img, cv2.COLOR_BGR2HSV)\n",
    "gray = cv2.cvtColor(img, cv2.COLOR_BGR2GRAY)"
   ]
  },
  {
   "cell_type": "code",
   "execution_count": 6,
   "id": "0cd8c056",
   "metadata": {},
   "outputs": [],
   "source": [
    "def binarizeWhite(hsvImage):\n",
    "    lower=np.array([0,0,221])\n",
    "    upper=np.array([180,80,255])\n",
    "    mask = cv2.inRange(hsvImage, lower, upper)\n",
    "    return mask"
   ]
  },
  {
   "cell_type": "code",
   "execution_count": 65,
   "id": "18a0a515",
   "metadata": {},
   "outputs": [],
   "source": [
    "def preProcess(binarizedImg):\n",
    "    # 闭操作：先膨胀，再腐蚀\n",
    "    # 作用：膨胀 > 腐蚀，会过滤掉一些比较小的污染，减少一些毛边\n",
    "    closing_kernel = np.ones((5,5), np.uint8)\n",
    "    closing = cv2.morphologyEx(binarizedImg, cv2.MORPH_CLOSE, closing_kernel)\n",
    "    \n",
    "    # 开：先腐蚀，再膨胀\n",
    "    # 作用：腐蚀 > 膨胀，会放大比较小的污染，让边缘平滑一些，减少一些毛边\n",
    "    opening_kernel = np.ones((5,5), np.uint8)\n",
    "    opening = cv2.morphologyEx(binarizedImg, cv2.MORPH_OPEN, opening_kernel)\n",
    "    \n",
    "#     closing_kernel = np.ones((15,15), np.uint8)\n",
    "#     closing = cv2.morphologyEx(opening, cv2.MORPH_CLOSE, closing_kernel)\n",
    "    \n",
    "    # 腐蚀，\n",
    "    # 作用：去除掉右侧\n",
    "#     erosion_kernel = np.ones((10,10), np.uint8)\n",
    "    erosion_closeing = cv2.erode(closing, np.ones((10,10), np.uint8), iterations = 2)\n",
    "    erosion_opening = cv2.erode(closing, np.ones((10,10), np.uint8), iterations = 2)\n",
    "    return closing, opening, erosion_closeing, erosion_opening"
   ]
  },
  {
   "cell_type": "code",
   "execution_count": 19,
   "id": "64391ef4",
   "metadata": {},
   "outputs": [],
   "source": [
    "def blockImg(binarizedImg):\n",
    "    return NULL"
   ]
  },
  {
   "cell_type": "code",
   "execution_count": 9,
   "id": "c2a81053",
   "metadata": {},
   "outputs": [],
   "source": [
    "def drawEdge(counterImg):\n",
    "    de_contours, de_hierarchy = cv2.findContours(counterImg, cv2.RETR_TREE, cv2.CHAIN_APPROX_SIMPLE)\n",
    "    de_res = cv2.drawContours(cv2.cvtColor(counterImg, cv2.COLOR_GRAY2BGR), de_contours, -1, (255, 0, 0), 10)\n",
    "    return de_res, de_contours"
   ]
  },
  {
   "cell_type": "code",
   "execution_count": 51,
   "id": "d0034fe7",
   "metadata": {},
   "outputs": [
    {
     "data": {
      "image/png": "[encoded data removed]",
      "text/plain": [
       "<Figure size 432x288 with 1 Axes>"
      ]
     },
     "metadata": {},
     "output_type": "display_data"
    }
   ],
   "source": [
    "binarized = binarizeWhite(hsv)\n",
    "showImages([binarized])"
   ]
  },
  {
   "cell_type": "code",
   "execution_count": 66,
   "id": "6df66e27",
   "metadata": {},
   "outputs": [],
   "source": [
    "closed, opened, erosion_closeing, erosion_opening = preProcess(binarized)\n",
    "cv_show(np.hstack((closed, opened)))"
   ]
  },
  {
   "cell_type": "code",
   "execution_count": 55,
   "id": "b02704e1",
   "metadata": {},
   "outputs": [],
   "source": [
    "cv_show(opened)"
   ]
  },
  {
   "cell_type": "code",
   "execution_count": null,
   "id": "5f943434",
   "metadata": {},
   "outputs": [],
   "source": [
    "cv_show(np.hstack((erosion_closeing, erosion_opening)))"
   ]
  }
 ],
 "metadata": {
  "kernelspec": {
   "display_name": "Python 3 (ipykernel)",
   "language": "python",
   "name": "python3"
  },
  "language_info": {
   "codemirror_mode": {
    "name": "ipython",
    "version": 3
   },
   "file_extension": ".py",
   "mimetype": "text/x-python",
   "name": "python",
   "nbconvert_exporter": "python",
   "pygments_lexer": "ipython3",
   "version": "3.9.7"
  }
 },
 "nbformat": 4,
 "nbformat_minor": 5
}

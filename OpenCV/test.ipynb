{
 "cells": [
  {
   "cell_type": "code",
   "execution_count": 1,
   "id": "dc1c2571",
   "metadata": {},
   "outputs": [],
   "source": [
    "import torch"
   ]
  },
  {
   "cell_type": "code",
   "execution_count": 2,
   "id": "eb2fbdd2",
   "metadata": {},
   "outputs": [],
   "source": [
    "x=torch.rand(5,3)"
   ]
  },
  {
   "cell_type": "code",
   "execution_count": 3,
   "id": "934fa78f",
   "metadata": {},
   "outputs": [
    {
     "name": "stdout",
     "output_type": "stream",
     "text": [
      "tensor([[0.8737, 0.4261, 0.7187],\n",
      "        [0.0615, 0.7406, 0.2553],\n",
      "        [0.0743, 0.8869, 0.1435],\n",
      "        [0.7492, 0.6618, 0.9196],\n",
      "        [0.0288, 0.5283, 0.4458]])\n"
     ]
    }
   ],
   "source": [
    "print(x)"
   ]
  },
  {
   "cell_type": "code",
   "execution_count": null,
   "id": "7228249b",
   "metadata": {},
   "outputs": [],
   "source": []
  }
 ],
 "metadata": {
  "kernelspec": {
   "display_name": "Python 3 (ipykernel)",
   "language": "python",
   "name": "python3"
  },
  "language_info": {
   "codemirror_mode": {
    "name": "ipython",
    "version": 3
   },
   "file_extension": ".py",
   "mimetype": "text/x-python",
   "name": "python",
   "nbconvert_exporter": "python",
   "pygments_lexer": "ipython3",
   "version": "3.9.7"
  }
 },
 "nbformat": 4,
 "nbformat_minor": 5
}

{
 "cells": [
  {
   "cell_type": "code",
   "execution_count": 19,
   "metadata": {},
   "outputs": [
    {
     "name": "stdout",
     "output_type": "stream",
     "text": [
      "len of baseDuck:  5345\n",
      "len of nowBaseDuck:  5345\n"
     ]
    }
   ],
   "source": [
    "import pickle\n",
    "import cv2\n",
    "import math\n",
    "import numpy as np\n",
    "\n",
    "blockSize = 12\n",
    "\n",
    "\n",
    "def getAvgColorList(img):\n",
    "    \"\"\"\n",
    "    计算RGB空间里两个点颜色上的距离\n",
    "    \"\"\"\n",
    "    row = img.shape[0]\n",
    "    col = img.shape[1]\n",
    "    blocks = []  # 存放切片\n",
    "    blockAvgColorList = []  # 每个区块对应的颜色值\n",
    "    rowGroupNum = math.ceil(row / blockSize)\n",
    "    colGroupNum = math.ceil(col / blockSize)\n",
    "    for i in range(rowGroupNum):\n",
    "        for j in range(colGroupNum):\n",
    "            curBlock = img[\n",
    "                i*blockSize: (i+1)*blockSize,\n",
    "                j*blockSize: (j+1)*blockSize\n",
    "            ]\n",
    "            curB, curG, curR = cv2.split(curBlock)\n",
    "            blockAvgColorList.append((\n",
    "                int(np.mean(curB)),\n",
    "                int(np.mean(curG)),\n",
    "                int(np.mean(curR)),\n",
    "            ))\n",
    "            blocks.append(curBlock)\n",
    "    return blockAvgColorList\n",
    "\n",
    "#   读取baseImages文件夹下的图片，生成基准色数组中的内容\n",
    "baseImgRoot = 'baseImages/'\n",
    "baseImgNameList = ['1.png', '2.png', '3.png', '4.png', '5.png', '6.png', '7.png', '8.png', '9.png']\n",
    "baseDuck = []\n",
    "\n",
    "for name in baseImgNameList:\n",
    "    curBaseImg = cv2.imread(baseImgRoot + name, cv2.IMREAD_COLOR)\n",
    "    baseDuck = list(set(baseDuck) ^ set(getAvgColorList(curBaseImg)))\n",
    "\n",
    "\n",
    "print(\"len of baseDuck: \", len(baseDuck))\n",
    "# output = open('baseDuck.pkl', 'wb')\n",
    "# pickle.dump(baseDuck, output, -1)\n",
    "\n",
    "\n",
    "pkl_file = open('baseDuck.pkl', 'rb')\n",
    "nowBaseDuck = pickle.load(pkl_file)  # 存放基准色的数组\n",
    "pkl_file.close()\n",
    "print(\"len of nowBaseDuck: \", len(nowBaseDuck))\n"
   ]
  }
 ],
 "metadata": {
  "language_info": {
   "name": "python"
  },
  "orig_nbformat": 4
 },
 "nbformat": 4,
 "nbformat_minor": 2
}

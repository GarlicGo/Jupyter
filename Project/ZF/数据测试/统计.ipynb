{
 "cells": [
  {
   "cell_type": "code",
   "execution_count": 7,
   "metadata": {},
   "outputs": [],
   "source": [
    "# 污染数据，0-3分别为：绝缘层损伤、绝缘层污染、压线筒污染、压线筒弯曲\n",
    "wuran_data = [\n",
    "    [0.04, 0.04, 0.04, 0.04, 0.04, 0.04, 0.04, 0.04, 0.03, 0.03, 0.03, 0.04, 0.03, 0.03, 0.03, 0.04, 0.04, 0.03, 0.04, 0.03, 0.03, 0.03],\n",
    "    [0.05, 0.04, 0.04, 0.04, 0.04, 0.03, 0.04, 0.04, 0.03, 0.03, 0.04, 0.04, 0.03, 0.04, 0.03, 0.03, 0.03, 0.03, 0.03, 0.03, 0.04, 0.03, 0.03, 0.03, 0.04, 0.04, 0.03, 0.05, 0.04, 0.04],\n",
    "    [0.36, 0.28, 0.32, 0.34, 0.28, 0.31, 0.32, 0.28, 0.3, 0.35, 0.39, 0.41, 0.37, 0.35, 0.37, 0.28, 0.34, 0.39, 0.32, 0.45, 0.31, 0.43, 0.38, 0.32, 0.3, 0.29, 0.37, 0.28, 0.31, 0.32],\n",
    "    [0.27, 0.23, 0.22, 0.25, 0.41, 0.26, 0.26, 0.22, 0.25, 0.22, 0.27, 0.28, 0.34, 0.36, 0.24, 0.26, 0.31, 0.27, 0.36, 0.38, 0.44, 0.47, 0.47, 0.4, 0.32, 0.32, 0.29, 0.32]\n",
    "]"
   ]
  },
  {
   "cell_type": "code",
   "execution_count": 18,
   "metadata": {},
   "outputs": [
    {
     "name": "stdout",
     "output_type": "stream",
     "text": [
      "第0个平均处理时间:  0.03545454545454547 , 个数:  22\n",
      "第1个平均处理时间:  0.03600000000000002 , 个数:  30\n",
      "第2个平均处理时间:  0.3373333333333333 , 个数:  30\n",
      "第3个平均处理时间:  0.31035714285714283 , 个数:  28\n",
      "总平均处理时间:  0.18790909090909091 , 个数:  110\n"
     ]
    }
   ],
   "source": [
    "num = []\n",
    "count = []\n",
    "avg = []\n",
    "\n",
    "for i in range(0, 4):\n",
    "    cur_num = len(wuran_data[i])\n",
    "    cur_count = sum(wuran_data[i])\n",
    "    cur_avg = cur_count/cur_num\n",
    "\n",
    "    num.append(cur_num)\n",
    "    count.append(cur_count)\n",
    "    avg.append(cur_avg)\n",
    "    print(f\"第{i}个平均处理时间: \", cur_avg, \", 个数: \", cur_num)\n",
    "\n",
    "print(\"总平均处理时间: \", sum(count)/sum(num), \", 个数: \", sum(num))\n",
    "# print(num, sum(num))\n",
    "# print(count, sum(count))\n",
    "# print(avg, sum(avg))\n"
   ]
  }
 ],
 "metadata": {
  "interpreter": {
   "hash": "5330bbab8596c24470c797794bd8b525582734b5cfb7b062209dd14c2a1406a4"
  },
  "kernelspec": {
   "display_name": "Python 3.9.7 ('base')",
   "language": "python",
   "name": "python3"
  },
  "language_info": {
   "name": "python",
   "version": "3.9.7"
  },
  "orig_nbformat": 4
 },
 "nbformat": 4,
 "nbformat_minor": 2
}

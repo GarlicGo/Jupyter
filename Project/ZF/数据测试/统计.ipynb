{
 "cells": [
  {
   "cell_type": "code",
   "execution_count": 9,
   "metadata": {},
   "outputs": [],
   "source": [
    "# 污染数据，0-3分别为：绝缘层损伤、绝缘层污染、压线筒污染、压线筒弯曲\n",
    "wuran_data = [\n",
    "    [0.04,0.04,0.04,0.04,0.04,0.04,0.04,0.04,0.04,0.04,0.04,0.04,0.03,0.03,0.03,0.03,0.03,0.03,0.03,0.03,0.03,0.03,0.03,0.03,0.03,0.03,0.03,0.03,0.03,0.03,],\n",
    "    [0.05, 0.04, 0.04, 0.04, 0.04, 0.03, 0.04, 0.04, 0.03, 0.03, 0.04, 0.04, 0.03, 0.04, 0.03, 0.03, 0.03, 0.03, 0.03, 0.03, 0.04, 0.03, 0.03, 0.03, 0.04, 0.04, 0.03, 0.05, 0.04, 0.04],\n",
    "    [0.36, 0.28, 0.32, 0.34, 0.28, 0.31, 0.32, 0.28, 0.3, 0.35, 0.39, 0.41, 0.37, 0.35, 0.37, 0.28, 0.34, 0.39, 0.32, 0.45, 0.31, 0.43, 0.38, 0.32, 0.3, 0.29, 0.37, 0.28, 0.31, 0.32],\n",
    "    [0.27, 0.23, 0.22, 0.25, 0.41, 0.26, 0.26, 0.22, 0.25, 0.22, 0.27, 0.28, 0.34, 0.36, 0.24, 0.26, 0.31, 0.27, 0.36, 0.38, 0.44, 0.47, 0.47, 0.4, 0.32, 0.32, 0.29, 0.32, 0.32, 0.36]\n",
    "]"
   ]
  },
  {
   "cell_type": "code",
   "execution_count": 10,
   "metadata": {},
   "outputs": [
    {
     "data": {
      "text/plain": [
       "[30, 30, 30, 30]"
      ]
     },
     "execution_count": 10,
     "metadata": {},
     "output_type": "execute_result"
    }
   ],
   "source": [
    "lenth = [\n",
    "    len(wuran_data[0]),\n",
    "    len(wuran_data[1]),\n",
    "    len(wuran_data[2]),\n",
    "    len(wuran_data[3])\n",
    "]\n",
    "\n",
    "lenth"
   ]
  },
  {
   "cell_type": "code",
   "execution_count": 11,
   "metadata": {},
   "outputs": [
    {
     "name": "stdout",
     "output_type": "stream",
     "text": [
      "第0个平均处理时间:  0.03400000000000001 , 个数:  30\n",
      "第1个平均处理时间:  0.03600000000000002 , 个数:  30\n",
      "第2个平均处理时间:  0.3373333333333333 , 个数:  30\n",
      "第3个平均处理时间:  0.3123333333333333 , 个数:  30\n",
      "总平均处理时间:  0.17991666666666664 , 个数:  120\n"
     ]
    }
   ],
   "source": [
    "num = []\n",
    "count = []\n",
    "avg = []\n",
    "\n",
    "for i in range(0, 4):\n",
    "    cur_num = len(wuran_data[i])\n",
    "    cur_count = sum(wuran_data[i])\n",
    "    cur_avg = cur_count/cur_num\n",
    "\n",
    "    num.append(cur_num)\n",
    "    count.append(cur_count)\n",
    "    avg.append(cur_avg)\n",
    "    print(f\"第{i}个平均处理时间: \", cur_avg, \", 个数: \", cur_num)\n",
    "\n",
    "print(\"总平均处理时间: \", sum(count)/sum(num), \", 个数: \", sum(num))\n",
    "# print(num, sum(num))\n",
    "# print(count, sum(count))\n",
    "# print(avg, sum(avg))\n"
   ]
  },
  {
   "cell_type": "code",
   "execution_count": 12,
   "metadata": {},
   "outputs": [],
   "source": [
    "cuncu = [\n",
    "    1.59,0.89,1.38,1.16,1.22,1.31,1.42,1.34,1.31,4.47,1.64,4.03,4.02,1.67,1.32,1.56,1.15,0.89,4.05,1.16,1.07,1.82,1.75,4.54,4.42,3.62,6.36,3.87,1.92,4.23\n",
    "]"
   ]
  },
  {
   "cell_type": "code",
   "execution_count": 15,
   "metadata": {},
   "outputs": [
    {
     "name": "stdout",
     "output_type": "stream",
     "text": [
      "30\n",
      "2.3726666666666665\n"
     ]
    }
   ],
   "source": [
    "print(len(cuncu))\n",
    "print(sum(cuncu)/30)"
   ]
  }
 ],
 "metadata": {
  "interpreter": {
   "hash": "5330bbab8596c24470c797794bd8b525582734b5cfb7b062209dd14c2a1406a4"
  },
  "kernelspec": {
   "display_name": "Python 3.9.7 ('base')",
   "language": "python",
   "name": "python3"
  },
  "language_info": {
   "codemirror_mode": {
    "name": "ipython",
    "version": 3
   },
   "file_extension": ".py",
   "mimetype": "text/x-python",
   "name": "python",
   "nbconvert_exporter": "python",
   "pygments_lexer": "ipython3",
   "version": "3.9.7"
  },
  "orig_nbformat": 4
 },
 "nbformat": 4,
 "nbformat_minor": 2
}

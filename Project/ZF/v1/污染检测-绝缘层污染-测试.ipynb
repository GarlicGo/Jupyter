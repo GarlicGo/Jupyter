{
 "cells": [
  {
   "cell_type": "code",
   "execution_count": 64,
   "id": "e9943309",
   "metadata": {},
   "outputs": [],
   "source": [
    "# 所有用到的包\n",
    "import numpy as np\n",
    "import cv2\n",
    "import matplotlib.pyplot as plt"
   ]
  },
  {
   "cell_type": "markdown",
   "id": "35ba0195",
   "metadata": {},
   "source": [
    "【例】核心功能代码"
   ]
  },
  {
   "cell_type": "code",
   "execution_count": 269,
   "id": "8a5dcf78",
   "metadata": {},
   "outputs": [
    {
     "data": {
      "image/png": "[encoded data removed]",
      "text/plain": [
       "<Figure size 432x288 with 1 Axes>"
      ]
     },
     "metadata": {},
     "output_type": "display_data"
    }
   ],
   "source": [
    "# 色彩空间转换：⬇️\n",
    "# https://blog.csdn.net/keith_bb/article/details/53470170?spm=1001.2101.3001.6650.1&utm_medium=distribute.pc_relevant.none-task-blog-2%7Edefault%7ECTRLIST%7Edefault-1.pc_relevant_default&depth_1-utm_source=distribute.pc_relevant.none-task-blog-2%7Edefault%7ECTRLIST%7Edefault-1.pc_relevant_default&utm_relevant_index=2\n",
    "\n",
    "img = cv2.imread(\n",
    "    '/Users/zhouxinyu/Code/Python/jupyter/assets/images/污染检测/污染/绝缘层污染 (21).tif', cv2.IMREAD_COLOR)\n",
    "# img = cv2.imread(\n",
    "#     '/Users/zhouxinyu/Code/Python/jupyter/assets/images/污染检测/污染/绝缘层污染 (20).tif', cv2.IMREAD_COLOR)\n",
    "# img = cv2.imread(\n",
    "#     '/Users/zhouxinyu/Code/Coding/zf_back_py/detection/contamination_detect/assets/正常图片/normal-1.tif', cv2.IMREAD_COLOR)\n",
    "hsv = cv2.cvtColor(img, cv2.COLOR_BGR2HSV)\n",
    "gray = cv2.cvtColor(img, cv2.COLOR_BGR2GRAY)\n",
    "\n",
    "binarized = binarizeWhite(hsv) # 原图二值化后的图像\n",
    "preProcessed = preProcess(binarized) # 原图二值化图像预处理后的图像\n",
    "\n",
    "cutted_img = np.transpose(cutVerticalBlack(np.transpose(\n",
    "    cutVerticalBlack(np.transpose(preProcessed))\n",
    ")))\n",
    "\n",
    "showImages([cutted_img])\n",
    "\n",
    "# de_img, de_countours = drawEdge(preProcessed, 20)\n",
    "# \n",
    "# showImages([np.transpose(preProcessed)])\n",
    "\n",
    "# showImages([binarized, preProcessed, de_img],['binarized','preProcessed', 'drawEdge'],[2,2])\n",
    "\n",
    "# allEdgesLen, counter = getEdges(preProcessed, 10)\n",
    "# print(\"allEdgesLen: \", allEdgesLen)\n",
    "# print(\"非连通性污染检测存在异常点个数: \", counter)"
   ]
  },
  {
   "cell_type": "code",
   "execution_count": 270,
   "id": "54ed7991",
   "metadata": {},
   "outputs": [
    {
     "name": "stdout",
     "output_type": "stream",
     "text": [
      "[3, 13, 4, 7, 2, 1, 3, 2, 2, 4, 45, 5, 7, 3, 11, 12, 27, 6, 15, 33, 0, 1, 14]\n"
     ]
    },
    {
     "data": {
      "image/png": "[encoded data removed]",
      "text/plain": [
       "<Figure size 720x504 with 1 Axes>"
      ]
     },
     "metadata": {
      "needs_background": "light"
     },
     "output_type": "display_data"
    }
   ],
   "source": [
    "def getPixelNumber(list):\n",
    "    return len(list) - int(sum(list) / 255)\n",
    "\n",
    "\n",
    "pollutionList = list(map(getPixelNumber, cutted_img))\n",
    "pollutionListRate = []\n",
    "footLen = 25\n",
    "start = int(0.15 * len(pollutionList))\n",
    "end = len(pollutionList) - start\n",
    "\n",
    "for i in range(start, end, footLen):\n",
    "    pollutionListRate.append(abs(pollutionList[i] - pollutionList[i-footLen]))\n",
    "\n",
    "# for size in pollutionList:\n",
    "#     cha = size - preSize\n",
    "#     pollutionListRate.append(cha)\n",
    "#     preSize = size\n",
    "\n",
    "getChart(pollutionListRate)\n",
    "# print(pollutionList)\n",
    "print(pollutionListRate)\n"
   ]
  },
  {
   "cell_type": "code",
   "execution_count": 271,
   "id": "259ab4b7",
   "metadata": {},
   "outputs": [
    {
     "data": {
      "image/png": "[encoded data removed]",
      "text/plain": [
       "<Figure size 720x504 with 1 Axes>"
      ]
     },
     "metadata": {
      "needs_background": "light"
     },
     "output_type": "display_data"
    }
   ],
   "source": [
    "getChart(pollutionList)"
   ]
  },
  {
   "cell_type": "code",
   "execution_count": null,
   "id": "7aeb783b",
   "metadata": {},
   "outputs": [],
   "source": [
    "p_start = int(len(pollutionList)*0.2)\n",
    "p_end = len(pollutionList) - p_start\n",
    "getChart(pollutionList[p_start: p_end])"
   ]
  },
  {
   "cell_type": "code",
   "execution_count": 104,
   "id": "2dd22d12",
   "metadata": {},
   "outputs": [],
   "source": [
    "\n",
    "def getChart(arr):\n",
    "    fig, ax = plt.subplots(figsize=(10, 7))\n",
    "    ax.bar(x=list(map(str, range(0, len(arr)))), height=arr)\n",
    "    ax.set_title(\"Simple Bar Plot\", fontsize=15)"
   ]
  },
  {
   "cell_type": "code",
   "execution_count": 9,
   "id": "99e59f87",
   "metadata": {},
   "outputs": [],
   "source": [
    "def cutVerticalBlack(img):\n",
    "    new_img = []\n",
    "    for i in range(0, len(img)):\n",
    "        sizes = int(sum(img[i]) / 255)\n",
    "        if sizes > 20:\n",
    "            new_img.append(img[i])\n",
    "    return new_img\n",
    "\n",
    "cutted_1 = cutVerticalBlack(np.transpose(preProcessed))\n",
    "cutted_2 = np.transpose(cutted_1)\n",
    "cutted_img = cutVerticalBlack(np.transpose(\n",
    "    cutVerticalBlack(np.transpose(preProcessed))\n",
    "))\n",
    "# print(cutVerticalBlack(cutted_2))\n",
    "# print(sum(cutted_2[800]))\n",
    "# showImages([cutted_img])\n"
   ]
  },
  {
   "cell_type": "code",
   "execution_count": 78,
   "id": "21fc7090",
   "metadata": {},
   "outputs": [
    {
     "name": "stdout",
     "output_type": "stream",
     "text": [
      "True\n"
     ]
    }
   ],
   "source": [
    "sizes = int(sum(transpose[1000]) / 255)\n",
    "print(sizes == 0)"
   ]
  },
  {
   "cell_type": "code",
   "execution_count": 33,
   "id": "4116604e",
   "metadata": {},
   "outputs": [
    {
     "name": "stdout",
     "output_type": "stream",
     "text": [
      "372\n"
     ]
    }
   ],
   "source": [
    "print(len(de_countours[0]))\n",
    "edge = de_countours[0]"
   ]
  },
  {
   "cell_type": "code",
   "execution_count": 23,
   "id": "0c3835c9",
   "metadata": {},
   "outputs": [
    {
     "name": "stdout",
     "output_type": "stream",
     "text": [
      "1\n",
      "3\n",
      "5\n",
      "7\n",
      "9\n"
     ]
    }
   ],
   "source": [
    "for i in range(1, 10, 2):\n",
    "    print(i)"
   ]
  },
  {
   "cell_type": "code",
   "execution_count": 117,
   "id": "2080037a",
   "metadata": {},
   "outputs": [
    {
     "name": "stdout",
     "output_type": "stream",
     "text": [
      "All Touples:  11\n",
      "430\n",
      "301\n",
      "250\n",
      "295\n",
      "minLen:  10\n",
      "Len > minLen:  4\n"
     ]
    },
    {
     "data": {
      "image/png": "[encoded data removed]",
      "text/plain": [
       "<Figure size 432x288 with 1 Axes>"
      ]
     },
     "metadata": {},
     "output_type": "display_data"
    }
   ],
   "source": [
    "de_img, de_countours = drawEdge(preProcessed)\n",
    "# print(len(de_countours))\n",
    "showImages([de_img])\n"
   ]
  },
  {
   "cell_type": "code",
   "execution_count": 1,
   "id": "e438cbbe",
   "metadata": {},
   "outputs": [],
   "source": [
    "def binarizeWhite(hsvImage):\n",
    "    lower=np.array([0,0,221])\n",
    "    upper=np.array([180,80,255])\n",
    "    mask = cv2.inRange(hsvImage, lower, upper)\n",
    "    return mask\n",
    "\n",
    "def preProcess(binarizedImg):\n",
    "    # 开：先腐蚀，再膨胀\n",
    "    # 作用：腐蚀 > 膨胀，会放大比较小的污染，让边缘平滑一些，减少一些毛边\n",
    "    opening_kernel = np.ones((5,5), np.uint8)\n",
    "    opening = cv2.morphologyEx(binarizedImg, cv2.MORPH_OPEN, opening_kernel)\n",
    "    \n",
    "    # 腐蚀，\n",
    "    # 作用：去除掉右侧\n",
    "    erosion_kernel = np.ones((5,5), np.uint8)\n",
    "    erosion_opening = cv2.erode(opening, erosion_kernel, iterations = 3)\n",
    "    \n",
    "    # 闭操作：先膨胀，再腐蚀\n",
    "    closing_kernel = np.ones((20,20), np.uint8)\n",
    "    closing = cv2.morphologyEx(erosion_opening, cv2.MORPH_CLOSE, closing_kernel)\n",
    "    return closing\n",
    "\n",
    "def getEdges(counterImg, minLen = 10):\n",
    "    de_contours, de_hierarchy = cv2.findContours(counterImg, cv2.RETR_TREE, cv2.CHAIN_APPROX_SIMPLE)\n",
    "#     print(\"All Touples: \", len(de_contours))\n",
    "    allEdgesLen = len(de_contours)\n",
    "    counter = 0\n",
    "    for size in de_contours:\n",
    "        if(len(size) > minLen):\n",
    "            counter = counter + 1\n",
    "            print(\"size -> \", len(size))\n",
    "    return allEdgesLen, counter\n",
    "\n",
    "def drawLines(edge):\n",
    "    counter = []\n",
    "    slope = []\n",
    "    prePixel = edge[0]\n",
    "    print('prePixel -> ', prePixel)\n",
    "    for i in range(5, len(edge), 20):\n",
    "        pixel = edge[i]\n",
    "        denominator = pixel[0][0] - prePixel[0][0]\n",
    "        if denominator == 0:\n",
    "            slope.append('denominator is zero')\n",
    "        else:\n",
    "            slope.append(\n",
    "                (pixel[0][1] - prePixel[0][1])/denominator\n",
    "            )\n",
    "        prePixel = pixel\n",
    "    return slope\n",
    "\n",
    "# 描边，暂时不用\n",
    "def drawEdge(counterImg, minLen = 10):\n",
    "    de_contours, de_hierarchy = cv2.findContours(counterImg, cv2.RETR_TREE, cv2.CHAIN_APPROX_SIMPLE)\n",
    "    de_res = cv2.cvtColor(counterImg, cv2.COLOR_GRAY2BGR)\n",
    "    print(\"All Touples: \", len(de_contours))\n",
    "    edges = []\n",
    "    counter = 0\n",
    "    for size in de_contours:\n",
    "        if(len(size) > minLen):\n",
    "            edges.append(size)\n",
    "            de_res = cv2.drawContours(de_res, [size], -1, (255, 0, 0), 2)\n",
    "            counter = counter + 1\n",
    "            print(len(size))\n",
    "    print(\"minLen: \", minLen)\n",
    "    print(\"Len > minLen: \", counter)\n",
    "    return de_res, edges"
   ]
  },
  {
   "cell_type": "markdown",
   "id": "1e2db44e",
   "metadata": {},
   "source": [
    "辅助代码"
   ]
  },
  {
   "cell_type": "code",
   "execution_count": 7,
   "id": "ae505f52",
   "metadata": {},
   "outputs": [],
   "source": [
    "def cv_show(img):\n",
    "    cv2.imshow('cv_show', img)\n",
    "    cv2.waitKey(0)  # 等待时间，毫秒级，0标示按任意键终止\n",
    "    cv2.destroyAllWindows()\n",
    "    cv2.waitKey(1)  # 解决mac中窗口不关闭的问题\n",
    "    \n",
    "def showImages(images, titles = [''], size = [1, 1], BGR = False):\n",
    "    for i in range(len(images)):\n",
    "        plt.subplot(size[0], size[1], i + 1)\n",
    "        showImage = images[i]\n",
    "        if (BGR):\n",
    "            b,g,r = cv2.split(images[i])\n",
    "            showImage = cv2.merge([r,g,b])\n",
    "        plt.imshow(showImage ,'gray')\n",
    "        plt.title(titles[i])\n",
    "        plt.xticks([]), plt.yticks([])\n",
    "# np.hstack((img1, img2))"
   ]
  },
  {
   "cell_type": "code",
   "execution_count": 4,
   "id": "a9f779bb",
   "metadata": {},
   "outputs": [],
   "source": [
    "def drawLinesCopy(edge):\n",
    "    counter = []\n",
    "    slope = []\n",
    "    prePixel = edge[0]\n",
    "    print('prePixel -> ', prePixel)\n",
    "    for pixel in edge:\n",
    "#         print(\"pixel -> \", pixel[0])\n",
    "        denominator = pixel[0][0] - prePixel[0][0]\n",
    "        if denominator == 0:\n",
    "            slope.append('denominator is zero')\n",
    "        else:\n",
    "            slope.append(\n",
    "                (pixel[0][1] - prePixel[0][1])/denominator\n",
    "            )\n",
    "        prePixel = pixel\n",
    "    return slope"
   ]
  }
 ],
 "metadata": {
  "kernelspec": {
   "display_name": "Python 3 (ipykernel)",
   "language": "python",
   "name": "python3"
  },
  "language_info": {
   "codemirror_mode": {
    "name": "ipython",
    "version": 3
   },
   "file_extension": ".py",
   "mimetype": "text/x-python",
   "name": "python",
   "nbconvert_exporter": "python",
   "pygments_lexer": "ipython3",
   "version": "3.9.7"
  }
 },
 "nbformat": 4,
 "nbformat_minor": 5
}

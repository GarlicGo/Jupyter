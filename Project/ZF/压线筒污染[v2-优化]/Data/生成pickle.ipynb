{
 "cells": [
  {
   "cell_type": "code",
   "execution_count": 25,
   "metadata": {},
   "outputs": [],
   "source": [
    "import pickle\n",
    "import cv2\n",
    "import math\n",
    "import numpy as np\n",
    "from numpy import ndarray\n",
    "from typing import List, Tuple\n",
    "\n",
    "ColorType = Tuple[int, int ,int]\n",
    "blockSize = 12\n",
    "\n",
    "# 生成pickle文件: createPickle([0, 1, 2])\n",
    "def createPickle(data, name = \"pickle-temp-name\"):\n",
    "    output = open('pickle/' + name + '.pkl', 'wb')\n",
    "    pickle.dump(data, output, -1)\n",
    "    output.close()\n",
    "\n",
    "# 读取指定路径等pickle: pk = getPickle(\"./pickle/pickle-temp-name.pkl\")\n",
    "def getPickle(url):\n",
    "    pkl_file = open(url, 'rb')\n",
    "    res = pickle.load(pkl_file)  # 存放基准色的数组\n",
    "    pkl_file.close()\n",
    "    return res\n",
    "\n",
    "def getAvgColorList(url) -> List[ColorType]:\n",
    "        \"\"\"\n",
    "        计算RGB空间里两个点颜色上的距离\n",
    "        \"\"\"\n",
    "        img = cv2.imread(url, cv2.IMREAD_COLOR)\n",
    "        row = img.shape[0]\n",
    "        col = img.shape[1]\n",
    "        blocks = []  # 存放切片\n",
    "        blockAvgColorList = []  # 每个区块对应的颜色值\n",
    "        rowGroupNum = math.ceil(row / blockSize)\n",
    "        colGroupNum = math.ceil(col / blockSize)\n",
    "        for i in range(rowGroupNum):\n",
    "            for j in range(colGroupNum):\n",
    "                curBlock = img[\n",
    "                    i*blockSize: (i+1)*blockSize,\n",
    "                    j*blockSize: (j+1)*blockSize\n",
    "                ]\n",
    "                curB, curG, curR = cv2.split(curBlock)\n",
    "                blockAvgColorList.append((\n",
    "                    int(np.mean(curB)),\n",
    "                    int(np.mean(curG)),\n",
    "                    int(np.mean(curR)),\n",
    "                ))\n",
    "                blocks.append(curBlock)\n",
    "        return list(set(blockAvgColorList))"
   ]
  },
  {
   "cell_type": "code",
   "execution_count": 36,
   "metadata": {},
   "outputs": [],
   "source": [
    "pickle_0 = getAvgColorList(\"/Users/zhouxinyu/Code/Python/jupyter/Project/ZF/毕业暑假收尾-压线筒污染/Data/训练集-正常图片/0.png\")\n",
    "pickle_1 = getAvgColorList(\"/Users/zhouxinyu/Code/Python/jupyter/Project/ZF/毕业暑假收尾-压线筒污染/Data/训练集-正常图片/1.png\")\n",
    "pickle_01 = list(set(pickle_0) ^ set(pickle_1))\n",
    "createPickle(pickle_0, \"pickle_0\")\n",
    "createPickle(pickle_1, \"pickle_1\")\n",
    "createPickle(pickle_01, \"pickle_01\")"
   ]
  },
  {
   "cell_type": "code",
   "execution_count": 37,
   "metadata": {},
   "outputs": [
    {
     "name": "stdout",
     "output_type": "stream",
     "text": [
      "1992\n",
      "1992\n",
      "3843\n"
     ]
    }
   ],
   "source": [
    "pk0 = getPickle(\"/Users/zhouxinyu/Code/Python/jupyter/Project/ZF/毕业暑假收尾-压线筒污染/Code/pickle/pickle_0.pkl\")\n",
    "pk1 = getPickle(\"/Users/zhouxinyu/Code/Python/jupyter/Project/ZF/毕业暑假收尾-压线筒污染/Code/pickle/pickle_0.pkl\")\n",
    "pk01 = getPickle(\"/Users/zhouxinyu/Code/Python/jupyter/Project/ZF/毕业暑假收尾-压线筒污染/Code/pickle/pickle_01.pkl\")\n",
    "print(len(pk0))\n",
    "print(len(pk1))\n",
    "print(len(pk01))"
   ]
  }
 ],
 "metadata": {
  "kernelspec": {
   "display_name": "Python 3.9.7 ('base')",
   "language": "python",
   "name": "python3"
  },
  "language_info": {
   "codemirror_mode": {
    "name": "ipython",
    "version": 3
   },
   "file_extension": ".py",
   "mimetype": "text/x-python",
   "name": "python",
   "nbconvert_exporter": "python",
   "pygments_lexer": "ipython3",
   "version": "3.9.7"
  },
  "orig_nbformat": 4,
  "vscode": {
   "interpreter": {
    "hash": "5330bbab8596c24470c797794bd8b525582734b5cfb7b062209dd14c2a1406a4"
   }
  }
 },
 "nbformat": 4,
 "nbformat_minor": 2
}

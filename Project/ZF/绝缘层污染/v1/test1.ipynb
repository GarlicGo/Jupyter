{
 "cells": [
  {
   "cell_type": "code",
   "execution_count": 1,
   "metadata": {},
   "outputs": [],
   "source": [
    "# 所有用到的包\n",
    "import numpy as np\n",
    "import cv2\n",
    "import matplotlib.pyplot as plt"
   ]
  },
  {
   "cell_type": "code",
   "execution_count": 6,
   "metadata": {},
   "outputs": [
    {
     "data": {
      "image/png": "[encoded data removed]",
      "text/plain": [
       "<Figure size 432x288 with 1 Axes>"
      ]
     },
     "metadata": {},
     "output_type": "display_data"
    }
   ],
   "source": [
    "\n",
    "img = cv2.imread(\n",
    "    '/Users/zhouxinyu/Code/Python/jupyter/assets/images/污染检测/污染/绝缘层污染 (21).tif', cv2.IMREAD_COLOR)\n",
    "hsv = cv2.cvtColor(img, cv2.COLOR_BGR2HSV)\n",
    "\n",
    "binarized = binarizeWhite(hsv) # 原图二值化后的图像\n",
    "preProcessed = preProcess(binarized) # 原图二值化图像预处理后的图像\n",
    "\n",
    "cutted_img = np.transpose(cutVerticalBlack(np.transpose(\n",
    "    cutVerticalBlack(np.transpose(preProcessed))\n",
    ")))\n",
    "showImages([cutted_img])\n"
   ]
  },
  {
   "cell_type": "code",
   "execution_count": 5,
   "metadata": {},
   "outputs": [],
   "source": [
    "def binarizeWhite(hsvImage):\n",
    "    lower=np.array([0,0,221])\n",
    "    upper=np.array([180,80,255])\n",
    "    mask = cv2.inRange(hsvImage, lower, upper)\n",
    "    return mask\n",
    "\n",
    "def preProcess(binarizedImg):\n",
    "    # 开：先腐蚀，再膨胀\n",
    "    # 作用：腐蚀 > 膨胀，会放大比较小的污染，让边缘平滑一些，减少一些毛边\n",
    "    opening_kernel = np.ones((5,5), np.uint8)\n",
    "    opening = cv2.morphologyEx(binarizedImg, cv2.MORPH_OPEN, opening_kernel)\n",
    "    \n",
    "    # 腐蚀，\n",
    "    # 作用：去除掉右侧\n",
    "    erosion_kernel = np.ones((5,5), np.uint8)\n",
    "    erosion_opening = cv2.erode(opening, erosion_kernel, iterations = 3)\n",
    "    \n",
    "    # 闭操作：先膨胀，再腐蚀\n",
    "    closing_kernel = np.ones((20,20), np.uint8)\n",
    "    closing = cv2.morphologyEx(erosion_opening, cv2.MORPH_CLOSE, closing_kernel)\n",
    "    return closing\n",
    "\n",
    "def cutVerticalBlack(img):\n",
    "    new_img = []\n",
    "    for i in range(0, len(img)):\n",
    "        sizes = int(sum(img[i]) / 255)\n",
    "        if sizes > 20:\n",
    "            new_img.append(img[i])\n",
    "    return new_img\n",
    "\n",
    "def showImages(images, titles = [''], size = [1, 1], BGR = False):\n",
    "    for i in range(len(images)):\n",
    "        plt.subplot(size[0], size[1], i + 1)\n",
    "        showImage = images[i]\n",
    "        if (BGR):\n",
    "            b,g,r = cv2.split(images[i])\n",
    "            showImage = cv2.merge([r,g,b])\n",
    "        plt.imshow(showImage ,'gray')\n",
    "        plt.title(titles[i])\n",
    "        plt.xticks([]), plt.yticks([])"
   ]
  }
 ],
 "metadata": {
  "interpreter": {
   "hash": "5330bbab8596c24470c797794bd8b525582734b5cfb7b062209dd14c2a1406a4"
  },
  "kernelspec": {
   "display_name": "Python 3.9.7 ('base')",
   "language": "python",
   "name": "python3"
  },
  "language_info": {
   "codemirror_mode": {
    "name": "ipython",
    "version": 3
   },
   "file_extension": ".py",
   "mimetype": "text/x-python",
   "name": "python",
   "nbconvert_exporter": "python",
   "pygments_lexer": "ipython3",
   "version": "3.9.7"
  },
  "orig_nbformat": 4
 },
 "nbformat": 4,
 "nbformat_minor": 2
}

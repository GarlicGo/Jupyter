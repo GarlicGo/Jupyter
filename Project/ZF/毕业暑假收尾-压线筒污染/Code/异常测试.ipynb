{
 "cells": [
  {
   "cell_type": "code",
   "execution_count": 1,
   "metadata": {},
   "outputs": [],
   "source": [
    "class MyException(Exception):\n",
    "    def __init__(self, msg):\n",
    "        '''\n",
    "        :param msg: 异常信息\n",
    "        '''\n",
    "        self.msg = msg"
   ]
  },
  {
   "cell_type": "code",
   "execution_count": 4,
   "metadata": {},
   "outputs": [
    {
     "name": "stdout",
     "output_type": "stream",
     "text": [
      "100\n"
     ]
    },
    {
     "ename": "MyException",
     "evalue": "info",
     "output_type": "error",
     "traceback": [
      "\u001b[0;31m---------------------------------------------------------------------------\u001b[0m",
      "\u001b[0;31mMyException\u001b[0m                               Traceback (most recent call last)",
      "\u001b[1;32m/Users/zhouxinyu/Code/Python/jupyter/Project/ZF/毕业暑假收尾-压线筒污染/Code/异常测试.ipynb Cell 2\u001b[0m in \u001b[0;36m<cell line: 2>\u001b[0;34m()\u001b[0m\n\u001b[1;32m      <a href='vscode-notebook-cell:/Users/zhouxinyu/Code/Python/jupyter/Project/ZF/%E6%AF%95%E4%B8%9A%E6%9A%91%E5%81%87%E6%94%B6%E5%B0%BE-%E5%8E%8B%E7%BA%BF%E7%AD%92%E6%B1%A1%E6%9F%93/Code/%E5%BC%82%E5%B8%B8%E6%B5%8B%E8%AF%95.ipynb#ch0000001?line=0'>1</a>\u001b[0m \u001b[39mprint\u001b[39m(\u001b[39m\"\u001b[39m\u001b[39m100\u001b[39m\u001b[39m\"\u001b[39m)\n\u001b[0;32m----> <a href='vscode-notebook-cell:/Users/zhouxinyu/Code/Python/jupyter/Project/ZF/%E6%AF%95%E4%B8%9A%E6%9A%91%E5%81%87%E6%94%B6%E5%B0%BE-%E5%8E%8B%E7%BA%BF%E7%AD%92%E6%B1%A1%E6%9F%93/Code/%E5%BC%82%E5%B8%B8%E6%B5%8B%E8%AF%95.ipynb#ch0000001?line=1'>2</a>\u001b[0m \u001b[39mraise\u001b[39;00m MyException(\u001b[39m'\u001b[39m\u001b[39minfo\u001b[39m\u001b[39m'\u001b[39m)\n\u001b[1;32m      <a href='vscode-notebook-cell:/Users/zhouxinyu/Code/Python/jupyter/Project/ZF/%E6%AF%95%E4%B8%9A%E6%9A%91%E5%81%87%E6%94%B6%E5%B0%BE-%E5%8E%8B%E7%BA%BF%E7%AD%92%E6%B1%A1%E6%9F%93/Code/%E5%BC%82%E5%B8%B8%E6%B5%8B%E8%AF%95.ipynb#ch0000001?line=2'>3</a>\u001b[0m \u001b[39mprint\u001b[39m(\u001b[39m\"\u001b[39m\u001b[39m999\u001b[39m\u001b[39m\"\u001b[39m)\n",
      "\u001b[0;31mMyException\u001b[0m: info"
     ]
    }
   ],
   "source": [
    "print(\"100\")\n",
    "raise MyException('info')\n",
    "print(\"999\")"
   ]
  }
 ],
 "metadata": {
  "kernelspec": {
   "display_name": "Python 3.9.7 ('base')",
   "language": "python",
   "name": "python3"
  },
  "language_info": {
   "codemirror_mode": {
    "name": "ipython",
    "version": 3
   },
   "file_extension": ".py",
   "mimetype": "text/x-python",
   "name": "python",
   "nbconvert_exporter": "python",
   "pygments_lexer": "ipython3",
   "version": "3.9.7"
  },
  "orig_nbformat": 4,
  "vscode": {
   "interpreter": {
    "hash": "5330bbab8596c24470c797794bd8b525582734b5cfb7b062209dd14c2a1406a4"
   }
  }
 },
 "nbformat": 4,
 "nbformat_minor": 2
}

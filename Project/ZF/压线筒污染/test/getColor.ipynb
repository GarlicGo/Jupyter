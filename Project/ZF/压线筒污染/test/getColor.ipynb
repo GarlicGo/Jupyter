{
 "cells": [
  {
   "cell_type": "code",
   "execution_count": 16,
   "metadata": {},
   "outputs": [
    {
     "data": {
      "image/png": "[encoded data removed]",
      "text/plain": [
       "<Figure size 432x288 with 1 Axes>"
      ]
     },
     "metadata": {},
     "output_type": "display_data"
    }
   ],
   "source": [
    "from math import tan\n",
    "from typing import Any, Tuple\n",
    "\n",
    "import cv2\n",
    "import numpy as np\n",
    "import matplotlib.pyplot as plt\n",
    "\n",
    "def cv_show(img):\n",
    "    cv2.imshow('cv_show', img)\n",
    "    cv2.waitKey(0)  # 等待时间，毫秒级，0标示按任意键终止\n",
    "    cv2.destroyAllWindows()\n",
    "    cv2.waitKey(1)  # 解决mac中窗口不关闭的问题\n",
    "    \n",
    "def showImages(images, titles = [''], size = [1, 1], BGR = False):\n",
    "    for i in range(len(images)):\n",
    "        plt.subplot(size[0], size[1], i + 1)\n",
    "        showImage = images[i]\n",
    "        if (BGR):\n",
    "            b,g,r = cv2.split(images[i])\n",
    "            showImage = cv2.merge([r,g,b])\n",
    "        plt.imshow(showImage ,'gray')\n",
    "        plt.title(titles[i])\n",
    "        plt.xticks([]), plt.yticks([])\n",
    "\n",
    "def cutBlackLines(image):\n",
    "    return cutVerticalBlack(np.transpose(\n",
    "        cutVerticalBlack(image)\n",
    "    ))\n",
    "    # np.transpose(cutVerticalBlack(np.transpose(\n",
    "    #     cutVerticalBlack(image)\n",
    "    # )))\n",
    "\n",
    "def cutVerticalBlack(img):\n",
    "    new_img = []\n",
    "    for i in range(0, len(img)):\n",
    "        sizes = int(sum(img[i]) / 255)\n",
    "        if sizes > 20:\n",
    "            new_img.append(img[i])\n",
    "    return new_img\n",
    "\n",
    "def getColorIndex(colorList, color):\n",
    "    for i in range(len(colorList)):\n",
    "        if list(color) == list(colorList[i]):\n",
    "            return i\n",
    "    return -1\n",
    "\n",
    "img = cv2.imread(\n",
    "    '/Users/zhouxinyu/Code/Python/jupyter/Project/ZF/压线筒污染/res/iShot2022-04-04_17.44.04.png', cv2.IMREAD_COLOR)\n",
    "# img = cv2.imread(\n",
    "#     '/Users/zhouxinyu/Code/Python/jupyter/Project/ZF/压线筒污染/图片/压线筒污染 (15).tif', cv2.IMREAD_COLOR)\n",
    "showImages([(img)], BGR=True)"
   ]
  },
  {
   "cell_type": "code",
   "execution_count": 17,
   "metadata": {},
   "outputs": [
    {
     "ename": "TypeError",
     "evalue": "only size-1 arrays can be converted to Python scalars",
     "output_type": "error",
     "traceback": [
      "\u001b[0;31m---------------------------------------------------------------------------\u001b[0m",
      "\u001b[0;31mTypeError\u001b[0m                                 Traceback (most recent call last)",
      "\u001b[1;32m/Users/zhouxinyu/Code/Python/jupyter/Project/ZF/压线筒污染/test/getColor.ipynb Cell 2'\u001b[0m in \u001b[0;36m<cell line: 1>\u001b[0;34m()\u001b[0m\n\u001b[0;32m----> <a href='vscode-notebook-cell:/Users/zhouxinyu/Code/Python/jupyter/Project/ZF/%E5%8E%8B%E7%BA%BF%E7%AD%92%E6%B1%A1%E6%9F%93/test/getColor.ipynb#ch0000008?line=0'>1</a>\u001b[0m cutBlackLines(img)\n",
      "\u001b[1;32m/Users/zhouxinyu/Code/Python/jupyter/Project/ZF/压线筒污染/test/getColor.ipynb Cell 1'\u001b[0m in \u001b[0;36mcutBlackLines\u001b[0;34m(image)\u001b[0m\n\u001b[1;32m     <a href='vscode-notebook-cell:/Users/zhouxinyu/Code/Python/jupyter/Project/ZF/%E5%8E%8B%E7%BA%BF%E7%AD%92%E6%B1%A1%E6%9F%93/test/getColor.ipynb#ch0000000?line=24'>25</a>\u001b[0m \u001b[39mdef\u001b[39;00m \u001b[39mcutBlackLines\u001b[39m(image):\n\u001b[1;32m     <a href='vscode-notebook-cell:/Users/zhouxinyu/Code/Python/jupyter/Project/ZF/%E5%8E%8B%E7%BA%BF%E7%AD%92%E6%B1%A1%E6%9F%93/test/getColor.ipynb#ch0000000?line=25'>26</a>\u001b[0m     \u001b[39mreturn\u001b[39;00m cutVerticalBlack(np\u001b[39m.\u001b[39mtranspose(\n\u001b[0;32m---> <a href='vscode-notebook-cell:/Users/zhouxinyu/Code/Python/jupyter/Project/ZF/%E5%8E%8B%E7%BA%BF%E7%AD%92%E6%B1%A1%E6%9F%93/test/getColor.ipynb#ch0000000?line=26'>27</a>\u001b[0m         cutVerticalBlack(image)\n\u001b[1;32m     <a href='vscode-notebook-cell:/Users/zhouxinyu/Code/Python/jupyter/Project/ZF/%E5%8E%8B%E7%BA%BF%E7%AD%92%E6%B1%A1%E6%9F%93/test/getColor.ipynb#ch0000000?line=27'>28</a>\u001b[0m     ))\n",
      "\u001b[1;32m/Users/zhouxinyu/Code/Python/jupyter/Project/ZF/压线筒污染/test/getColor.ipynb Cell 1'\u001b[0m in \u001b[0;36mcutVerticalBlack\u001b[0;34m(img)\u001b[0m\n\u001b[1;32m     <a href='vscode-notebook-cell:/Users/zhouxinyu/Code/Python/jupyter/Project/ZF/%E5%8E%8B%E7%BA%BF%E7%AD%92%E6%B1%A1%E6%9F%93/test/getColor.ipynb#ch0000000?line=33'>34</a>\u001b[0m new_img \u001b[39m=\u001b[39m []\n\u001b[1;32m     <a href='vscode-notebook-cell:/Users/zhouxinyu/Code/Python/jupyter/Project/ZF/%E5%8E%8B%E7%BA%BF%E7%AD%92%E6%B1%A1%E6%9F%93/test/getColor.ipynb#ch0000000?line=34'>35</a>\u001b[0m \u001b[39mfor\u001b[39;00m i \u001b[39min\u001b[39;00m \u001b[39mrange\u001b[39m(\u001b[39m0\u001b[39m, \u001b[39mlen\u001b[39m(img)):\n\u001b[0;32m---> <a href='vscode-notebook-cell:/Users/zhouxinyu/Code/Python/jupyter/Project/ZF/%E5%8E%8B%E7%BA%BF%E7%AD%92%E6%B1%A1%E6%9F%93/test/getColor.ipynb#ch0000000?line=35'>36</a>\u001b[0m     sizes \u001b[39m=\u001b[39m \u001b[39mint\u001b[39;49m(\u001b[39msum\u001b[39;49m(img[i]) \u001b[39m/\u001b[39;49m \u001b[39m255\u001b[39;49m)\n\u001b[1;32m     <a href='vscode-notebook-cell:/Users/zhouxinyu/Code/Python/jupyter/Project/ZF/%E5%8E%8B%E7%BA%BF%E7%AD%92%E6%B1%A1%E6%9F%93/test/getColor.ipynb#ch0000000?line=36'>37</a>\u001b[0m     \u001b[39mif\u001b[39;00m sizes \u001b[39m>\u001b[39m \u001b[39m20\u001b[39m:\n\u001b[1;32m     <a href='vscode-notebook-cell:/Users/zhouxinyu/Code/Python/jupyter/Project/ZF/%E5%8E%8B%E7%BA%BF%E7%AD%92%E6%B1%A1%E6%9F%93/test/getColor.ipynb#ch0000000?line=37'>38</a>\u001b[0m         new_img\u001b[39m.\u001b[39mappend(img[i])\n",
      "\u001b[0;31mTypeError\u001b[0m: only size-1 arrays can be converted to Python scalars"
     ]
    }
   ],
   "source": [
    "cutBlackLines(img)"
   ]
  },
  {
   "cell_type": "code",
   "execution_count": 9,
   "metadata": {},
   "outputs": [],
   "source": [
    "colors = []\n",
    "color_connection = []\n",
    "for row in img:\n",
    "    for color in row:\n",
    "        colors.append(list(color))\n",
    "        # index = getColorIndex(colors, color)\n",
    "        # if (index == -1): # 新颜色\n",
    "        #     colors.append(color)\n",
    "        # print(colors)\n",
    "        # index = getColorIndex(colors, color)\n",
    "        # if index == -1: # 新颜色\n",
    "        #     colors.append(color)"
   ]
  },
  {
   "cell_type": "code",
   "execution_count": 15,
   "metadata": {},
   "outputs": [
    {
     "ename": "TypeError",
     "evalue": "unhashable type: 'list'",
     "output_type": "error",
     "traceback": [
      "\u001b[0;31m---------------------------------------------------------------------------\u001b[0m",
      "\u001b[0;31mTypeError\u001b[0m                                 Traceback (most recent call last)",
      "\u001b[1;32m/Users/zhouxinyu/Code/Python/jupyter/Project/ZF/压线筒污染/test/getColor.ipynb Cell 3'\u001b[0m in \u001b[0;36m<cell line: 1>\u001b[0;34m()\u001b[0m\n\u001b[0;32m----> <a href='vscode-notebook-cell:/Users/zhouxinyu/Code/Python/jupyter/Project/ZF/%E5%8E%8B%E7%BA%BF%E7%AD%92%E6%B1%A1%E6%9F%93/test/getColor.ipynb#ch0000002?line=0'>1</a>\u001b[0m \u001b[39mset\u001b[39;49m([[\u001b[39m0\u001b[39;49m, \u001b[39m0\u001b[39;49m ,\u001b[39m1\u001b[39;49m], [\u001b[39m0\u001b[39;49m, \u001b[39m0\u001b[39;49m ,\u001b[39m1\u001b[39;49m]])\n",
      "\u001b[0;31mTypeError\u001b[0m: unhashable type: 'list'"
     ]
    }
   ],
   "source": [
    "set([[0, 0 ,1], [0, 0 ,1]])"
   ]
  },
  {
   "cell_type": "code",
   "execution_count": 18,
   "metadata": {},
   "outputs": [
    {
     "name": "stdout",
     "output_type": "stream",
     "text": [
      "no\n"
     ]
    }
   ],
   "source": [
    "flag = 0\n",
    "if (flag == -1):\n",
    "    print(\"yes\")\n",
    "else:\n",
    "    print(\"no\")"
   ]
  },
  {
   "cell_type": "code",
   "execution_count": 12,
   "metadata": {},
   "outputs": [
    {
     "name": "stdout",
     "output_type": "stream",
     "text": [
      "range(0, 2048)\n"
     ]
    }
   ],
   "source": [
    "print(range(img.shape[0]))"
   ]
  },
  {
   "cell_type": "code",
   "execution_count": null,
   "metadata": {},
   "outputs": [],
   "source": []
  },
  {
   "cell_type": "code",
   "execution_count": 27,
   "metadata": {},
   "outputs": [
    {
     "data": {
      "text/plain": [
       "array([62, 57, 55], dtype=uint8)"
      ]
     },
     "execution_count": 27,
     "metadata": {},
     "output_type": "execute_result"
    }
   ],
   "source": [
    "img[1000][1550]"
   ]
  },
  {
   "cell_type": "code",
   "execution_count": 45,
   "metadata": {},
   "outputs": [
    {
     "name": "stdout",
     "output_type": "stream",
     "text": [
      "[0, 0, 0]\n",
      "[71, 61, 57]\n",
      "False\n",
      "False\n"
     ]
    }
   ],
   "source": [
    "print(list(img[0][0]))\n",
    "print(list(img[1000][1500]))\n",
    "print(list(img[0][0]) == list(img[1000][1500]))\n",
    "a = [0, 0, 0]\n",
    "b = [0, 10, 0]\n",
    "print(a==b)\n",
    "# flag = ( a == b)\n",
    "# if (flag[0] & flag[1] & flag[2]) :\n",
    "#     print(\"yes\")\n",
    "# else:\n",
    "#     print(\"no\")"
   ]
  }
 ],
 "metadata": {
  "interpreter": {
   "hash": "5330bbab8596c24470c797794bd8b525582734b5cfb7b062209dd14c2a1406a4"
  },
  "kernelspec": {
   "display_name": "Python 3.9.7 ('base')",
   "language": "python",
   "name": "python3"
  },
  "language_info": {
   "codemirror_mode": {
    "name": "ipython",
    "version": 3
   },
   "file_extension": ".py",
   "mimetype": "text/x-python",
   "name": "python",
   "nbconvert_exporter": "python",
   "pygments_lexer": "ipython3",
   "version": "3.9.7"
  },
  "orig_nbformat": 4
 },
 "nbformat": 4,
 "nbformat_minor": 2
}

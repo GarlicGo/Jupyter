{
 "cells": [
  {
   "cell_type": "code",
   "execution_count": 1,
   "metadata": {},
   "outputs": [
    {
     "ename": "SyntaxError",
     "evalue": "invalid syntax (512251220.py, line 14)",
     "output_type": "error",
     "traceback": [
      "\u001b[0;36m  Input \u001b[0;32mIn [1]\u001b[0;36m\u001b[0m\n\u001b[0;31m    return reduce(lambda x, (y, z): x | (z << y),\u001b[0m\n\u001b[0m                            ^\u001b[0m\n\u001b[0;31mSyntaxError\u001b[0m\u001b[0;31m:\u001b[0m invalid syntax\n"
     ]
    }
   ],
   "source": [
    "import glob\n",
    "import os\n",
    "import sys\n",
    "\n",
    "from PIL import Image\n",
    "\n",
    "EXTS = 'jpg', 'jpeg', 'JPG', 'JPEG', 'gif', 'GIF', 'png', 'PNG'\n",
    "\n",
    "def avhash(im):\n",
    "    if not isinstance(im, Image.Image):\n",
    "        im = Image.open(im)\n",
    "    im = im.resize((8, 8), Image.ANTIALIAS).convert('L')\n",
    "    avg = reduce(lambda x, y: x + y, im.getdata()) / 64.\n",
    "    return reduce(lambda x, (y, z): x | (z << y),\n",
    "                  enumerate(map(lambda i: 0 if i < avg else 1, im.getdata())),\n",
    "                  0)\n",
    "\n",
    "def hamming(h1, h2):\n",
    "    h, d = 0, h1 ^ h2\n",
    "    while d:\n",
    "        h += 1\n",
    "        d &= d - 1\n",
    "    return h\n",
    "\n",
    "if __name__ == '__main__':\n",
    "    if len(sys.argv) <= 1 or len(sys.argv) > 3:\n",
    "        print \"Usage: %s image.jpg [dir]\" % sys.argv[0]\n",
    "    else:\n",
    "        im, wd = sys.argv[1], '.' if len(sys.argv) < 3 else sys.argv[2]\n",
    "        h = avhash(im)\n",
    "\n",
    "        os.chdir(wd)\n",
    "        images = []\n",
    "        for ext in EXTS:\n",
    "            images.extend(glob.glob('*.%s' % ext))\n",
    "\n",
    "        seq = []\n",
    "        prog = int(len(images) > 50 and sys.stdout.isatty())\n",
    "        for f in images:\n",
    "            seq.append((f, hamming(avhash(f), h)))\n",
    "            if prog:\n",
    "                perc = 100. * prog / len(images)\n",
    "                x = int(2 * perc / 5)\n",
    "                print '\\rCalculating... [' + '#' * x + ' ' * (40 - x) + ']',\n",
    "                print '%.2f%%' % perc, '(%d/%d)' % (prog, len(images)),\n",
    "                sys.stdout.flush()\n",
    "                prog += 1\n",
    "\n",
    "        if prog: print\n",
    "        for f, ham in sorted(seq, key=lambda i: i[1]):\n",
    "            print \"%d\\t%s\" % (ham, f)"
   ]
  }
 ],
 "metadata": {
  "interpreter": {
   "hash": "5330bbab8596c24470c797794bd8b525582734b5cfb7b062209dd14c2a1406a4"
  },
  "kernelspec": {
   "display_name": "Python 3.9.7 ('base')",
   "language": "python",
   "name": "python3"
  },
  "language_info": {
   "codemirror_mode": {
    "name": "ipython",
    "version": 3
   },
   "file_extension": ".py",
   "mimetype": "text/x-python",
   "name": "python",
   "nbconvert_exporter": "python",
   "pygments_lexer": "ipython3",
   "version": "3.9.7"
  },
  "orig_nbformat": 4
 },
 "nbformat": 4,
 "nbformat_minor": 2
}

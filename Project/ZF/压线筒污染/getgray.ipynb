{
 "cells": [
  {
   "cell_type": "code",
   "execution_count": 4,
   "metadata": {},
   "outputs": [],
   "source": [
    "import cv2\n",
    "import matplotlib.pyplot as plt\n",
    "def cv_show(img):\n",
    "    cv2.imshow('cv_show', img)\n",
    "    cv2.waitKey(0)  # 等待时间，毫秒级，0标示按任意键终止\n",
    "    cv2.destroyAllWindows()\n",
    "    cv2.waitKey(1)  # 解决mac中窗口不关闭的问题\n",
    "\n",
    "\n",
    "def showImages(images, titles=[''], size=[1, 1], BGR=False):\n",
    "    for i in range(len(images)):\n",
    "        plt.subplot(size[0], size[1], i + 1)\n",
    "        showImage = images[i]\n",
    "        if (BGR):\n",
    "            b, g, r = cv2.split(images[i])\n",
    "            showImage = cv2.merge([r, g, b])\n",
    "        plt.imshow(showImage, 'gray')\n",
    "        plt.title(titles[i])\n",
    "        plt.xticks([]), plt.yticks([])\n",
    "\n",
    "img = cv2.imread('/Users/zhouxinyu/论文:电子资料/项目/电缆ZF项目/数据/Image/压线筒污染 (10).tif')\n",
    "\n",
    "gray = cv2.cvtColor(img, cv2.COLOR_BGR2GRAY)\n",
    "# showImages([gray])\n",
    "cv_show(gray)"
   ]
  }
 ],
 "metadata": {
  "interpreter": {
   "hash": "5330bbab8596c24470c797794bd8b525582734b5cfb7b062209dd14c2a1406a4"
  },
  "kernelspec": {
   "display_name": "Python 3.9.7 ('base')",
   "language": "python",
   "name": "python3"
  },
  "language_info": {
   "codemirror_mode": {
    "name": "ipython",
    "version": 3
   },
   "file_extension": ".py",
   "mimetype": "text/x-python",
   "name": "python",
   "nbconvert_exporter": "python",
   "pygments_lexer": "ipython3",
   "version": "3.9.7"
  },
  "orig_nbformat": 4
 },
 "nbformat": 4,
 "nbformat_minor": 2
}

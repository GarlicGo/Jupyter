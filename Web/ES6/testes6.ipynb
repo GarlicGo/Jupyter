{
 "cells": [
  {
   "cell_type": "code",
   "execution_count": 7,
   "id": "e83c1277",
   "metadata": {},
   "outputs": [
    {
     "data": {
      "text/plain": [
       "[ [ 'a', 'b' ], [ 'c', 'd' ] ]"
      ]
     },
     "execution_count": 7,
     "metadata": {},
     "output_type": "execute_result"
    }
   ],
   "source": [
    "import { chunk } from \"lodash\";\n",
    "chunk(['a', 'b', 'c', 'd'], 2);"
   ]
  }
 ],
 "metadata": {
  "kernelspec": {
   "display_name": "jp-Babel (Node.js)",
   "language": "babel",
   "name": "babel"
  },
  "language_info": {
   "file_extension": ".js",
   "mimetype": "application/javascript",
   "name": "javascript",
   "version": "16.13.1"
  }
 },
 "nbformat": 4,
 "nbformat_minor": 5
}

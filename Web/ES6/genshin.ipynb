{
 "cells": [
  {
   "cell_type": "code",
   "execution_count": 5,
   "metadata": {
    "vscode": {
     "languageId": "javascript"
    }
   },
   "outputs": [
    {
     "ename": "SyntaxError",
     "evalue": "Identifier 'getAttack' has already been declared",
     "output_type": "error",
     "traceback": [
      "evalmachine.<anonymous>:1",
      "// 攻击乘区计算公式",
      "^",
      "",
      "SyntaxError: Identifier 'getAttack' has already been declared",
      "    at Script.runInThisContext (node:vm:129:12)",
      "    at Object.runInThisContext (node:vm:305:38)",
      "    at run ([eval]:1020:15)",
      "    at onRunRequest ([eval]:864:18)",
      "    at onMessage ([eval]:828:13)",
      "    at process.emit (node:events:390:28)",
      "    at emit (node:internal/child_process:917:12)",
      "    at processTicksAndRejections (node:internal/process/task_queues:84:21)"
     ]
    }
   ],
   "source": [
    "// 攻击乘区计算公式\n",
    "const getAttack = (base, percent, fixed) => {\n",
    "  return base * percent + fixed;\n",
    "};"
   ]
  },
  {
   "cell_type": "code",
   "execution_count": 4,
   "metadata": {
    "vscode": {
     "languageId": "javascript"
    }
   },
   "outputs": [
    {
     "ename": "SyntaxError",
     "evalue": "Identifier 'lingHua1' has already been declared",
     "output_type": "error",
     "traceback": [
      "evalmachine.<anonymous>:1",
      "const lingHua1 = getAttack(1016, 1 + 0.152 + 0.058 + 0.204, 0) * 2.021 * (1 + 0.12 + 0.28 + 0.18 + 0.616) * (1 + 2.227) * 0.5 * (1 - 0.1);",
      "^",
      "",
      "SyntaxError: Identifier 'lingHua1' has already been declared",
      "    at Script.runInThisContext (node:vm:129:12)",
      "    at Object.runInThisContext (node:vm:305:38)",
      "    at run ([eval]:1020:15)",
      "    at onRunRequest ([eval]:864:18)",
      "    at onMessage ([eval]:828:13)",
      "    at process.emit (node:events:390:28)",
      "    at emit (node:internal/child_process:917:12)",
      "    at processTicksAndRejections (node:internal/process/task_queues:84:21)"
     ]
    }
   ],
   "source": [
    "const lingHua1 =\n",
    "  getAttack(1016, (1 + 0.152 + 0.058 + 0.204), 0) *\n",
    "  2.021 *\n",
    "  (1 + 0.12 + 0.28 + 0.18 + 0.616) *\n",
    "  (1 + 2.227) *\n",
    "  0.5 *\n",
    "  (1 - 0.1);\n",
    "console.log(lingHua1);\n"
   ]
  }
 ],
 "metadata": {
  "kernelspec": {
   "display_name": "jp-Babel (Node.js)",
   "language": "babel",
   "name": "babel"
  },
  "language_info": {
   "file_extension": ".js",
   "mimetype": "application/javascript",
   "name": "babel",
   "version": "16.13.1"
  },
  "orig_nbformat": 4
 },
 "nbformat": 4,
 "nbformat_minor": 2
}

{
 "cells": [
  {
   "cell_type": "code",
   "execution_count": 1,
   "id": "b4c48b80",
   "metadata": {},
   "outputs": [
    {
     "name": "stdout",
     "output_type": "stream",
     "text": [
      "10\n"
     ]
    },
    {
     "data": {
      "text/plain": [
       "undefined"
      ]
     },
     "execution_count": 1,
     "metadata": {},
     "output_type": "execute_result"
    }
   ],
   "source": [
    "x = 10\n",
    "console.log(x)"
   ]
  },
  {
   "cell_type": "code",
   "execution_count": null,
   "id": "f62a2851",
   "metadata": {},
   "outputs": [],
   "source": [
    "if (option === ORDERS_ STATUS[3])\n",
    " return <Tag>Default</Tag>\n",
    "\n",
    "return <Option key=( $f item. id]-$f option] j value= option] >\n",
    "    f(() => f\n",
    "    if (option\n",
    "    === ORDERS_ STATUS[Ø])\n",
    "    return <Tag color= \"blue\">[ORDERS_ STATUS[Ø]]</Tag> ;\n",
    "    if (option == ORDERS_ STATUS[1 ] )\n",
    "    return <Tag color= \" orangered\">[ORDERS_ STATUS[1]]</Tag>;\n",
    "    if (option == ORDERS_ STATUS[2])\n",
    "    return <Tag color=\" green\">[ORDERS_ STATUS [2]]</Tag> ;\n",
    "    F)()]</Option>"
   ]
  },
  {
   "cell_type": "code",
   "execution_count": 14,
   "id": "956490fb",
   "metadata": {},
   "outputs": [
    {
     "data": {
      "text/plain": [
       "undefined"
      ]
     },
     "execution_count": 14,
     "metadata": {},
     "output_type": "execute_result"
    }
   ],
   "source": [
    "var test = () => {\n",
    "    return \"1\"\n",
    "}"
   ]
  },
  {
   "cell_type": "code",
   "execution_count": 1,
   "id": "c4a569e3",
   "metadata": {},
   "outputs": [
    {
     "name": "stdout",
     "output_type": "stream",
     "text": [
      "test()\n"
     ]
    },
    {
     "data": {
      "text/plain": [
       "undefined"
      ]
     },
     "execution_count": 1,
     "metadata": {},
     "output_type": "execute_result"
    }
   ],
   "source": [
    "// 圣遗物：暴击爆伤339.2\n",
    "\n",
    "\n"
   ]
  }
 ],
 "metadata": {
  "kernelspec": {
   "display_name": "JavaScript (Node.js)",
   "language": "javascript",
   "name": "javascript"
  },
  "language_info": {
   "file_extension": ".js",
   "mimetype": "application/javascript",
   "name": "javascript",
   "version": "16.13.1"
  }
 },
 "nbformat": 4,
 "nbformat_minor": 5
}
